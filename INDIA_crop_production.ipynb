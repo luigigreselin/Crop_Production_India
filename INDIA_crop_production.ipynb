{
  "nbformat": 4,
  "nbformat_minor": 0,
  "metadata": {
    "colab": {
      "name": "INDIA_crop_production.ipynb",
      "provenance": [],
      "collapsed_sections": []
    },
    "kernelspec": {
      "name": "python3",
      "display_name": "Python 3"
    },
    "language_info": {
      "name": "python"
    }
  },
  "cells": [
    {
      "cell_type": "markdown",
      "metadata": {
        "id": "lDBPeLjanYDL"
      },
      "source": [
        "# Dataset Crop Production in India\n",
        "## This dataset provides a huge amount of information on crop production in India ranging from several years. Based on the Information the ultimate goal would be to predict crop production using powerful machine learning techniques."
      ]
    },
    {
      "cell_type": "code",
      "metadata": {
        "colab": {
          "base_uri": "https://localhost:8080/"
        },
        "id": "3uAuTgkxUS1Y",
        "outputId": "4e732007-9e6b-4904-f750-6ffbbe10f794"
      },
      "source": [
        "from google.colab import drive\n",
        "drive.mount('/content/gdrive')"
      ],
      "execution_count": 1,
      "outputs": [
        {
          "output_type": "stream",
          "text": [
            "Mounted at /content/gdrive\n"
          ],
          "name": "stdout"
        }
      ]
    },
    {
      "cell_type": "code",
      "metadata": {
        "id": "zwJiWtjAXpNx"
      },
      "source": [
        "#import some useful packages, later probably we will need more\n",
        "\n",
        "import numpy as np # linear algebra\n",
        "import pandas as pd # data processing, CSV file I/O (e.g. pd.read_csv)\n",
        "import seaborn as sns \n",
        "import matplotlib.pyplot as plt"
      ],
      "execution_count": 2,
      "outputs": []
    },
    {
      "cell_type": "code",
      "metadata": {
        "colab": {
          "base_uri": "https://localhost:8080/",
          "height": 204
        },
        "id": "kDhUbXt1XrP3",
        "outputId": "9cb4db2a-b94d-4c29-9c44-dff949e7351a"
      },
      "source": [
        "# readin the data\n",
        "data = pd.read_csv('gdrive/MyDrive/crop_production.csv/crop_production.csv')\n",
        "data.head()"
      ],
      "execution_count": 3,
      "outputs": [
        {
          "output_type": "execute_result",
          "data": {
            "text/html": [
              "<div>\n",
              "<style scoped>\n",
              "    .dataframe tbody tr th:only-of-type {\n",
              "        vertical-align: middle;\n",
              "    }\n",
              "\n",
              "    .dataframe tbody tr th {\n",
              "        vertical-align: top;\n",
              "    }\n",
              "\n",
              "    .dataframe thead th {\n",
              "        text-align: right;\n",
              "    }\n",
              "</style>\n",
              "<table border=\"1\" class=\"dataframe\">\n",
              "  <thead>\n",
              "    <tr style=\"text-align: right;\">\n",
              "      <th></th>\n",
              "      <th>State_Name</th>\n",
              "      <th>District_Name</th>\n",
              "      <th>Crop_Year</th>\n",
              "      <th>Season</th>\n",
              "      <th>Crop</th>\n",
              "      <th>Area</th>\n",
              "      <th>Production</th>\n",
              "    </tr>\n",
              "  </thead>\n",
              "  <tbody>\n",
              "    <tr>\n",
              "      <th>0</th>\n",
              "      <td>Andaman and Nicobar Islands</td>\n",
              "      <td>NICOBARS</td>\n",
              "      <td>2000</td>\n",
              "      <td>Kharif</td>\n",
              "      <td>Arecanut</td>\n",
              "      <td>1254.0</td>\n",
              "      <td>2000.0</td>\n",
              "    </tr>\n",
              "    <tr>\n",
              "      <th>1</th>\n",
              "      <td>Andaman and Nicobar Islands</td>\n",
              "      <td>NICOBARS</td>\n",
              "      <td>2000</td>\n",
              "      <td>Kharif</td>\n",
              "      <td>Other Kharif pulses</td>\n",
              "      <td>2.0</td>\n",
              "      <td>1.0</td>\n",
              "    </tr>\n",
              "    <tr>\n",
              "      <th>2</th>\n",
              "      <td>Andaman and Nicobar Islands</td>\n",
              "      <td>NICOBARS</td>\n",
              "      <td>2000</td>\n",
              "      <td>Kharif</td>\n",
              "      <td>Rice</td>\n",
              "      <td>102.0</td>\n",
              "      <td>321.0</td>\n",
              "    </tr>\n",
              "    <tr>\n",
              "      <th>3</th>\n",
              "      <td>Andaman and Nicobar Islands</td>\n",
              "      <td>NICOBARS</td>\n",
              "      <td>2000</td>\n",
              "      <td>Whole Year</td>\n",
              "      <td>Banana</td>\n",
              "      <td>176.0</td>\n",
              "      <td>641.0</td>\n",
              "    </tr>\n",
              "    <tr>\n",
              "      <th>4</th>\n",
              "      <td>Andaman and Nicobar Islands</td>\n",
              "      <td>NICOBARS</td>\n",
              "      <td>2000</td>\n",
              "      <td>Whole Year</td>\n",
              "      <td>Cashewnut</td>\n",
              "      <td>720.0</td>\n",
              "      <td>165.0</td>\n",
              "    </tr>\n",
              "  </tbody>\n",
              "</table>\n",
              "</div>"
            ],
            "text/plain": [
              "                    State_Name District_Name  ...    Area Production\n",
              "0  Andaman and Nicobar Islands      NICOBARS  ...  1254.0     2000.0\n",
              "1  Andaman and Nicobar Islands      NICOBARS  ...     2.0        1.0\n",
              "2  Andaman and Nicobar Islands      NICOBARS  ...   102.0      321.0\n",
              "3  Andaman and Nicobar Islands      NICOBARS  ...   176.0      641.0\n",
              "4  Andaman and Nicobar Islands      NICOBARS  ...   720.0      165.0\n",
              "\n",
              "[5 rows x 7 columns]"
            ]
          },
          "metadata": {
            "tags": []
          },
          "execution_count": 3
        }
      ]
    },
    {
      "cell_type": "markdown",
      "metadata": {
        "id": "u6cngwLLYWR2"
      },
      "source": [
        "# Here starts the EDA"
      ]
    },
    {
      "cell_type": "code",
      "metadata": {
        "colab": {
          "base_uri": "https://localhost:8080/"
        },
        "id": "zOfRseksYTT2",
        "outputId": "0af6d5cf-dc59-471d-9f34-41547b03e58a"
      },
      "source": [
        "data.shape"
      ],
      "execution_count": 4,
      "outputs": [
        {
          "output_type": "execute_result",
          "data": {
            "text/plain": [
              "(246091, 7)"
            ]
          },
          "metadata": {
            "tags": []
          },
          "execution_count": 4
        }
      ]
    },
    {
      "cell_type": "code",
      "metadata": {
        "colab": {
          "base_uri": "https://localhost:8080/"
        },
        "id": "9-54faQiYGvg",
        "outputId": "2321fd82-f5bc-4a4d-b17d-4e0d637f9929"
      },
      "source": [
        "# checking the amount of levels for each factor present\n",
        "for i in data.columns[:4]:\n",
        "  print(data[i].value_counts())"
      ],
      "execution_count": 5,
      "outputs": [
        {
          "output_type": "stream",
          "text": [
            "Uttar Pradesh                  33306\n",
            "Madhya Pradesh                 22943\n",
            "Karnataka                      21122\n",
            "Bihar                          18885\n",
            "Assam                          14628\n",
            "Odisha                         13575\n",
            "Tamil Nadu                     13547\n",
            "Maharashtra                    12628\n",
            "Rajasthan                      12514\n",
            "Chhattisgarh                   10709\n",
            "Andhra Pradesh                  9628\n",
            "West Bengal                     9613\n",
            "Gujarat                         8436\n",
            "Haryana                         5875\n",
            "Telangana                       5649\n",
            "Uttarakhand                     4896\n",
            "Kerala                          4261\n",
            "Nagaland                        3906\n",
            "Punjab                          3173\n",
            "Meghalaya                       2867\n",
            "Arunachal Pradesh               2546\n",
            "Himachal Pradesh                2494\n",
            "Jammu and Kashmir               1634\n",
            "Tripura                         1412\n",
            "Manipur                         1267\n",
            "Jharkhand                       1266\n",
            "Mizoram                          957\n",
            "Puducherry                       876\n",
            "Sikkim                           714\n",
            "Dadra and Nagar Haveli           263\n",
            "Goa                              208\n",
            "Andaman and Nicobar Islands      203\n",
            "Chandigarh                        90\n",
            "Name: State_Name, dtype: int64\n",
            "BIJAPUR      945\n",
            "TUMKUR       936\n",
            "BELGAUM      925\n",
            "HASSAN       895\n",
            "BELLARY      887\n",
            "            ... \n",
            "HYDERABAD      8\n",
            "RAMGARH        6\n",
            "KHUNTI         6\n",
            "NAMSAI         1\n",
            "MUMBAI         1\n",
            "Name: District_Name, Length: 646, dtype: int64\n",
            "2003    17287\n",
            "2002    16671\n",
            "2008    14550\n",
            "2007    14526\n",
            "2006    14328\n",
            "2004    14117\n",
            "2009    14116\n",
            "2011    14071\n",
            "2010    14065\n",
            "2005    13799\n",
            "2000    13658\n",
            "2013    13650\n",
            "2012    13410\n",
            "2001    13361\n",
            "1999    12515\n",
            "1998    11533\n",
            "2014    10973\n",
            "1997     8899\n",
            "2015      562\n",
            "Name: Crop_Year, dtype: int64\n",
            "Kharif         95951\n",
            "Rabi           66987\n",
            "Whole Year     57305\n",
            "Summer         14841\n",
            "Winter          6058\n",
            "Autumn          4949\n",
            "Name: Season, dtype: int64\n"
          ],
          "name": "stdout"
        }
      ]
    },
    {
      "cell_type": "code",
      "metadata": {
        "colab": {
          "base_uri": "https://localhost:8080/",
          "height": 347
        },
        "id": "blRtvTwuYohl",
        "outputId": "1a98d233-2af6-4ee5-88c0-7b956a2d9524"
      },
      "source": [
        "#the dataset looks complete, no nan apart for some in production column\n",
        "sns.heatmap(.isnull())"
      ],
      "execution_count": 6,
      "outputs": [
        {
          "output_type": "execute_result",
          "data": {
            "text/plain": [
              "<matplotlib.axes._subplots.AxesSubplot at 0x7f5d6620be10>"
            ]
          },
          "metadata": {
            "tags": []
          },
          "execution_count": 6
        },
        {
          "output_type": "display_data",
          "data": {
            "image/png": "[encoded data removed]",
            "text/plain": [
              "<Figure size 432x288 with 2 Axes>"
            ]
          },
          "metadata": {
            "tags": [],
            "needs_background": "light"
          }
        }
      ]
    },
    {
      "cell_type": "code",
      "metadata": {
        "colab": {
          "base_uri": "https://localhost:8080/"
        },
        "id": "wWBw4lRWOi58",
        "outputId": "c536957c-6a89-4be8-b120-c16105c2be29"
      },
      "source": [
        "# as we see here, production misses more or less 2k rows \n",
        "data.info()"
      ],
      "execution_count": 7,
      "outputs": [
        {
          "output_type": "stream",
          "text": [
            "<class 'pandas.core.frame.DataFrame'>\n",
            "RangeIndex: 246091 entries, 0 to 246090\n",
            "Data columns (total 7 columns):\n",
            " #   Column         Non-Null Count   Dtype  \n",
            "---  ------         --------------   -----  \n",
            " 0   State_Name     246091 non-null  object \n",
            " 1   District_Name  246091 non-null  object \n",
            " 2   Crop_Year      246091 non-null  int64  \n",
            " 3   Season         246091 non-null  object \n",
            " 4   Crop           246091 non-null  object \n",
            " 5   Area           246091 non-null  float64\n",
            " 6   Production     242361 non-null  float64\n",
            "dtypes: float64(2), int64(1), object(4)\n",
            "memory usage: 13.1+ MB\n"
          ],
          "name": "stdout"
        }
      ]
    },
    {
      "cell_type": "code",
      "metadata": {
        "colab": {
          "base_uri": "https://localhost:8080/"
        },
        "id": "YpNzdn40aZWn",
        "outputId": "ff2fc928-25ea-46c0-e569-ec29c7244134"
      },
      "source": [
        "# and now I can plot the production for differnt states\n",
        "# but wait they re divided in different crops and varying areas...\n",
        "data['State_Name'].value_counts()"
      ],
      "execution_count": 8,
      "outputs": [
        {
          "output_type": "execute_result",
          "data": {
            "text/plain": [
              "Uttar Pradesh                  33306\n",
              "Madhya Pradesh                 22943\n",
              "Karnataka                      21122\n",
              "Bihar                          18885\n",
              "Assam                          14628\n",
              "Odisha                         13575\n",
              "Tamil Nadu                     13547\n",
              "Maharashtra                    12628\n",
              "Rajasthan                      12514\n",
              "Chhattisgarh                   10709\n",
              "Andhra Pradesh                  9628\n",
              "West Bengal                     9613\n",
              "Gujarat                         8436\n",
              "Haryana                         5875\n",
              "Telangana                       5649\n",
              "Uttarakhand                     4896\n",
              "Kerala                          4261\n",
              "Nagaland                        3906\n",
              "Punjab                          3173\n",
              "Meghalaya                       2867\n",
              "Arunachal Pradesh               2546\n",
              "Himachal Pradesh                2494\n",
              "Jammu and Kashmir               1634\n",
              "Tripura                         1412\n",
              "Manipur                         1267\n",
              "Jharkhand                       1266\n",
              "Mizoram                          957\n",
              "Puducherry                       876\n",
              "Sikkim                           714\n",
              "Dadra and Nagar Haveli           263\n",
              "Goa                              208\n",
              "Andaman and Nicobar Islands      203\n",
              "Chandigarh                        90\n",
              "Name: State_Name, dtype: int64"
            ]
          },
          "metadata": {
            "tags": []
          },
          "execution_count": 8
        }
      ]
    },
    {
      "cell_type": "code",
      "metadata": {
        "colab": {
          "base_uri": "https://localhost:8080/",
          "height": 355
        },
        "id": "uNzyr5DAan6W",
        "outputId": "f37a2b8e-2066-4143-92da-d390ce697cc5"
      },
      "source": [
        "# check for correlation\n",
        "print(data.corr())\n",
        "sns.heatmap(data.corr())\n",
        "# alost no correlation. Strange in the case of area and production!!"
      ],
      "execution_count": 9,
      "outputs": [
        {
          "output_type": "stream",
          "text": [
            "            Crop_Year      Area  Production\n",
            "Crop_Year    1.000000 -0.026022    0.006989\n",
            "Area        -0.026022  1.000000    0.040587\n",
            "Production   0.006989  0.040587    1.000000\n"
          ],
          "name": "stdout"
        },
        {
          "output_type": "execute_result",
          "data": {
            "text/plain": [
              "<matplotlib.axes._subplots.AxesSubplot at 0x7f5d5d1fa5d0>"
            ]
          },
          "metadata": {
            "tags": []
          },
          "execution_count": 9
        },
        {
          "output_type": "display_data",
          "data": {
            "image/png": "[encoded data removed]",
            "text/plain": [
              "<Figure size 432x288 with 2 Axes>"
            ]
          },
          "metadata": {
            "tags": [],
            "needs_background": "light"
          }
        }
      ]
    },
    {
      "cell_type": "code",
      "metadata": {
        "colab": {
          "base_uri": "https://localhost:8080/"
        },
        "id": "03xqka5M5Xk1",
        "outputId": "83706b8e-6690-46ca-de03-3d866ff75a42"
      },
      "source": [
        "# the amount of states is definitely too high here we see:\n",
        "print(' the number of states in India is ', len(data['State_Name'].unique()))\n",
        "# we need to summarize between different regions. Acoording to vivekkumarprajapati, we divide the states in \n",
        "# different geographical regions \n",
        "\n",
        "#Zone-Wise Production - 1997-2014\n",
        "north_india = ['Jammu and Kashmir', 'Punjab', 'Himachal Pradesh', 'Haryana', 'Uttarakhand', 'Uttar Pradesh', 'Chandigarh']\n",
        "east_india = ['Bihar', 'Odisha', 'Jharkhand', 'West Bengal']\n",
        "south_india = ['Andhra Pradesh', 'Karnataka', 'Kerala' ,'Tamil Nadu', 'Telangana']\n",
        "west_india = ['Rajasthan' , 'Gujarat', 'Goa','Maharashtra']\n",
        "central_india = ['Madhya Pradesh', 'Chhattisgarh']\n",
        "north_east_india = ['Assam', 'Sikkim', 'Nagaland', 'Meghalaya', 'Manipur', 'Mizoram', 'Tripura', 'Arunachal Pradesh']\n",
        "ut_india = ['Andaman and Nicobar Islands', 'Dadra and Nagar Haveli', 'Puducherry']"
      ],
      "execution_count": 10,
      "outputs": [
        {
          "output_type": "stream",
          "text": [
            " the number of states in India is  33\n"
          ],
          "name": "stdout"
        }
      ]
    },
    {
      "cell_type": "code",
      "metadata": {
        "colab": {
          "base_uri": "https://localhost:8080/"
        },
        "id": "_gg1J6JS7BjN",
        "outputId": "7d065cf0-0ac3-4e90-d338-48de864402a3"
      },
      "source": [
        "# adn we assign them to the Zones\n",
        "def get_zonal_names(row):\n",
        "    if row['State_Name'].strip() in north_india:\n",
        "        val = 'North Zone'\n",
        "    elif row['State_Name'].strip()  in south_india:\n",
        "        val = 'South Zone'\n",
        "    elif row['State_Name'].strip()  in east_india:\n",
        "        val = 'East Zone'\n",
        "    elif row['State_Name'].strip()  in west_india:\n",
        "        val = 'West Zone'\n",
        "    elif row['State_Name'].strip()  in central_india:\n",
        "        val = 'Central Zone'\n",
        "    elif row['State_Name'].strip()  in north_east_india:\n",
        "        val = 'NE Zone'\n",
        "    elif row['State_Name'].strip()  in ut_india:\n",
        "        val = 'Union Terr'\n",
        "    else:\n",
        "        val = 'No Value'\n",
        "    return val\n",
        "\n",
        "data['Zones'] = data.apply(get_zonal_names, axis=1)\n",
        "data['Zones'].unique()"
      ],
      "execution_count": 11,
      "outputs": [
        {
          "output_type": "execute_result",
          "data": {
            "text/plain": [
              "array(['Union Terr', 'South Zone', 'NE Zone', 'East Zone', 'North Zone',\n",
              "       'Central Zone', 'West Zone'], dtype=object)"
            ]
          },
          "metadata": {
            "tags": []
          },
          "execution_count": 11
        }
      ]
    },
    {
      "cell_type": "code",
      "metadata": {
        "colab": {
          "base_uri": "https://localhost:8080/"
        },
        "id": "P1fH2sFG7iN1",
        "outputId": "bab95772-413e-4de3-ca25-61be0b1d6f23"
      },
      "source": [
        "#now we grouped the states in 6 macro areas\n",
        "data['Zones'].value_counts()"
      ],
      "execution_count": 12,
      "outputs": [
        {
          "output_type": "execute_result",
          "data": {
            "text/plain": [
              "South Zone      54207\n",
              "North Zone      51468\n",
              "East Zone       43339\n",
              "West Zone       33786\n",
              "Central Zone    33652\n",
              "NE Zone         28297\n",
              "Union Terr       1342\n",
              "Name: Zones, dtype: int64"
            ]
          },
          "metadata": {
            "tags": []
          },
          "execution_count": 12
        }
      ]
    },
    {
      "cell_type": "code",
      "metadata": {
        "colab": {
          "base_uri": "https://localhost:8080/"
        },
        "id": "FdgvEGqb8c_w",
        "outputId": "db78fafd-873c-4f75-db76-8fadaca03984"
      },
      "source": [
        "data['Crop'].value_counts().index"
      ],
      "execution_count": 13,
      "outputs": [
        {
          "output_type": "execute_result",
          "data": {
            "text/plain": [
              "Index(['Rice', 'Maize', 'Moong(Green Gram)', 'Urad', 'Sesamum', 'Groundnut',\n",
              "       'Sugarcane', 'Wheat', 'Rapeseed &Mustard', 'Arhar/Tur',\n",
              "       ...\n",
              "       'Jobster', 'Perilla', 'Turnip', 'Coffee', 'Litchi', 'Plums', 'Pear',\n",
              "       'Apple', 'Peach', 'Other Dry Fruit'],\n",
              "      dtype='object', length=124)"
            ]
          },
          "metadata": {
            "tags": []
          },
          "execution_count": 13
        }
      ]
    },
    {
      "cell_type": "code",
      "metadata": {
        "colab": {
          "base_uri": "https://localhost:8080/",
          "height": 573
        },
        "id": "VgfQP9PL7tAi",
        "outputId": "28d90ba4-d242-49b8-eee3-7b6b063c683e"
      },
      "source": [
        "# lets check how many types of crops are cultivated, we might need to summarize them\n",
        "print(data['Crop'].value_counts())\n",
        "print('the number of cultivated crops is ', len(data['Crop'].unique()))\n",
        "ax = sns.barplot(data['Crop'].value_counts().index, data['Crop'].value_counts())\n",
        "ax.set_title('barplot of different crops')\n",
        "# this barplot looks too chaotic, we will need to work a bit on that\n",
        "#ax.set_xticklabels(ax.get_xticklabels(), rotation=90) #this is to plot the x labels in vertical"
      ],
      "execution_count": 14,
      "outputs": [
        {
          "output_type": "stream",
          "text": [
            "Rice                 15104\n",
            "Maize                13947\n",
            "Moong(Green Gram)    10318\n",
            "Urad                  9850\n",
            "Sesamum               9046\n",
            "                     ...  \n",
            "Plums                    6\n",
            "Pear                     6\n",
            "Apple                    4\n",
            "Peach                    4\n",
            "Other Dry Fruit          1\n",
            "Name: Crop, Length: 124, dtype: int64\n",
            "the number of cultivated crops is  124\n"
          ],
          "name": "stdout"
        },
        {
          "output_type": "stream",
          "text": [
            "/usr/local/lib/python3.7/dist-packages/seaborn/_decorators.py:43: FutureWarning: Pass the following variables as keyword args: x, y. From version 0.12, the only valid positional argument will be `data`, and passing other arguments without an explicit keyword will result in an error or misinterpretation.\n",
            "  FutureWarning\n"
          ],
          "name": "stderr"
        },
        {
          "output_type": "execute_result",
          "data": {
            "text/plain": [
              "Text(0.5, 1.0, 'barplot of different crops')"
            ]
          },
          "metadata": {
            "tags": []
          },
          "execution_count": 14
        },
        {
          "output_type": "display_data",
          "data": {
            "image/png": "[encoded data removed]",
            "text/plain": [
              "<Figure size 432x288 with 1 Axes>"
            ]
          },
          "metadata": {
            "tags": [],
            "needs_background": "light"
          }
        }
      ]
    },
    {
      "cell_type": "code",
      "metadata": {
        "id": "pMLmQ-YV9DQ6"
      },
      "source": [
        "# again according to the aforementioned author we have to summarize the crops in macro groups\n",
        "\n",
        "crop = data['Crop']\n",
        "def cat_crop(crop):\n",
        "    for i in ['Rice','Maize','Wheat','Barley','Varagu','Other Cereals & Millets','Ragi','Small millets','Bajra','Jowar', 'Paddy','Total foodgrain','Jobster']:\n",
        "        if crop == i:\n",
        "            return 'Cereal'\n",
        "    for i in ['Moong','Urad','Arhar/Tur','Peas & beans','Masoor',\n",
        "              'Other Kharif pulses','other misc. pulses','Ricebean (nagadal)',\n",
        "              'Rajmash Kholar','Lentil','Samai','Blackgram','Korra','Cowpea(Lobia)',\n",
        "              'Other  Rabi pulses','Other Kharif pulses','Peas & beans (Pulses)','Pulses total','Gram']:\n",
        "        if crop == i:\n",
        "            return 'Pulses'\n",
        "    for i in ['Peach','Apple','Litchi','Pear','Plums','Ber','Sapota','Lemon','Pome Granet',\n",
        "               'Other Citrus Fruit','Water Melon','Jack Fruit','Grapes','Pineapple','Orange',\n",
        "               'Pome Fruit','Citrus Fruit','Other Fresh Fruits','Mango','Papaya','Coconut','Banana']:\n",
        "        if crop == i:\n",
        "            return 'Fruits'\n",
        "    for i in ['Bean','Lab-Lab','Moth','Guar seed','Soyabean','Horse-gram']:\n",
        "        if crop == i:\n",
        "            return 'Beans'\n",
        "    for i in ['Turnip','Peas','Beet Root','Carrot','Yam','Ribed Guard','Ash Gourd ','Pump Kin','Redish','Snak Guard','Bottle Gourd',\n",
        "              'Bitter Gourd','Cucumber','Drum Stick','Cauliflower','Beans & Mutter(Vegetable)','Cabbage',\n",
        "              'Bhindi','Tomato','Brinjal','Khesari','Sweet potato','Potato','Onion','Tapioca','Colocosia']:\n",
        "              if crop == i:\n",
        "                return 'Vegetables'\n",
        "    for i in ['Perilla','Ginger','Cardamom','Black pepper','Dry ginger','Garlic','Coriander','Turmeric','Dry chillies','Cond-spcs other']:\n",
        "        if crop == i:\n",
        "            return 'spices'\n",
        "    for i in ['other fibres','Kapas','Jute & mesta','Jute','Mesta','Cotton(lint)','Sannhamp']:\n",
        "        if crop == i:\n",
        "            return 'fibres'\n",
        "    for i in ['Arcanut (Processed)','Atcanut (Raw)','Cashewnut Processed','Cashewnut Raw','Cashewnut','Arecanut','Groundnut']:\n",
        "        if crop == i:\n",
        "            return 'Nuts'\n",
        "    for i in ['other oilseeds','Safflower','Niger seed','Castor seed','Linseed','Sunflower','Rapeseed &Mustard','Sesamum','Oilseeds total']:\n",
        "        if crop == i:\n",
        "            return 'oilseeds'\n",
        "    for i in ['Tobacco','Coffee','Tea','Sugarcane','Rubber']:\n",
        "        if crop == i:\n",
        "            return 'Commercial'\n",
        "\n",
        "data['cat_crop'] = data['Crop'].apply(cat_crop)"
      ],
      "execution_count": 15,
      "outputs": []
    },
    {
      "cell_type": "code",
      "metadata": {
        "colab": {
          "base_uri": "https://localhost:8080/",
          "height": 919
        },
        "id": "yrobRm0s9amz",
        "outputId": "d490d70e-d732-4493-f01e-821b3df8ff86"
      },
      "source": [
        "# lets check teh result of our summary\n",
        "print(data['cat_crop'].value_counts())\n",
        "print('the number of categories in crops is ', len(data['cat_crop'].unique()))\n",
        "\n",
        "# and plot them\n",
        "sns.set(rc={'figure.figsize':(10,10)})\n",
        "ax = sns.barplot(data['cat_crop'].value_counts().index, data['cat_crop'].value_counts())\n",
        "ax.set_title('barplot of different crops categories')\n",
        "ax.set(xlabel='categories', ylabel='rows in the dataframe per category')\n",
        "\n",
        "# we can say that most probably the cereals are the most cultivated and with the largest production. HOwever, this barplot\n",
        "# tells only how many times they recurred in the dataset. Further analysis is required"
      ],
      "execution_count": 16,
      "outputs": [
        {
          "output_type": "stream",
          "text": [
            "Cereal        63800\n",
            "Pulses        41689\n",
            "oilseeds      34454\n",
            "Vegetables    23325\n",
            "spices        21986\n",
            "Nuts          11588\n",
            "Commercial    10716\n",
            "fibres        10195\n",
            "Beans          9355\n",
            "Fruits         6243\n",
            "Name: cat_crop, dtype: int64\n",
            "the number of categories in crops is  11\n"
          ],
          "name": "stdout"
        },
        {
          "output_type": "stream",
          "text": [
            "/usr/local/lib/python3.7/dist-packages/seaborn/_decorators.py:43: FutureWarning: Pass the following variables as keyword args: x, y. From version 0.12, the only valid positional argument will be `data`, and passing other arguments without an explicit keyword will result in an error or misinterpretation.\n",
            "  FutureWarning\n"
          ],
          "name": "stderr"
        },
        {
          "output_type": "execute_result",
          "data": {
            "text/plain": [
              "[Text(0, 0.5, 'rows in the dataframe per category'),\n",
              " Text(0.5, 0, 'categories')]"
            ]
          },
          "metadata": {
            "tags": []
          },
          "execution_count": 16
        },
        {
          "output_type": "display_data",
          "data": {
            "image/png": "[encoded data removed]",
            "text/plain": [
              "<Figure size 720x720 with 1 Axes>"
            ]
          },
          "metadata": {
            "tags": []
          }
        }
      ]
    },
    {
      "cell_type": "code",
      "metadata": {
        "colab": {
          "base_uri": "https://localhost:8080/",
          "height": 297
        },
        "id": "BVr0NfT9BZwR",
        "outputId": "64462343-1cb2-4022-8603-86d4ce9c8042"
      },
      "source": [
        "# here we see the distribution of the categories in teh different macro regions\n",
        "data.groupby(['Zones', 'cat_crop']).count()['Production'].unstack()\n",
        "\n",
        "# here we are simply reporting the number of cells with that determined combination of factors"
      ],
      "execution_count": 17,
      "outputs": [
        {
          "output_type": "execute_result",
          "data": {
            "text/html": [
              "<div>\n",
              "<style scoped>\n",
              "    .dataframe tbody tr th:only-of-type {\n",
              "        vertical-align: middle;\n",
              "    }\n",
              "\n",
              "    .dataframe tbody tr th {\n",
              "        vertical-align: top;\n",
              "    }\n",
              "\n",
              "    .dataframe thead th {\n",
              "        text-align: right;\n",
              "    }\n",
              "</style>\n",
              "<table border=\"1\" class=\"dataframe\">\n",
              "  <thead>\n",
              "    <tr style=\"text-align: right;\">\n",
              "      <th>cat_crop</th>\n",
              "      <th>Beans</th>\n",
              "      <th>Cereal</th>\n",
              "      <th>Commercial</th>\n",
              "      <th>Fruits</th>\n",
              "      <th>Nuts</th>\n",
              "      <th>Pulses</th>\n",
              "      <th>Vegetables</th>\n",
              "      <th>fibres</th>\n",
              "      <th>oilseeds</th>\n",
              "      <th>spices</th>\n",
              "    </tr>\n",
              "    <tr>\n",
              "      <th>Zones</th>\n",
              "      <th></th>\n",
              "      <th></th>\n",
              "      <th></th>\n",
              "      <th></th>\n",
              "      <th></th>\n",
              "      <th></th>\n",
              "      <th></th>\n",
              "      <th></th>\n",
              "      <th></th>\n",
              "      <th></th>\n",
              "    </tr>\n",
              "  </thead>\n",
              "  <tbody>\n",
              "    <tr>\n",
              "      <th>Central Zone</th>\n",
              "      <td>1608.0</td>\n",
              "      <td>6920.0</td>\n",
              "      <td>1142.0</td>\n",
              "      <td>923.0</td>\n",
              "      <td>1029.0</td>\n",
              "      <td>6080.0</td>\n",
              "      <td>3881.0</td>\n",
              "      <td>1457.0</td>\n",
              "      <td>4777.0</td>\n",
              "      <td>4027.0</td>\n",
              "    </tr>\n",
              "    <tr>\n",
              "      <th>East Zone</th>\n",
              "      <td>1163.0</td>\n",
              "      <td>12771.0</td>\n",
              "      <td>1735.0</td>\n",
              "      <td>226.0</td>\n",
              "      <td>2016.0</td>\n",
              "      <td>7428.0</td>\n",
              "      <td>3550.0</td>\n",
              "      <td>1918.0</td>\n",
              "      <td>6505.0</td>\n",
              "      <td>3000.0</td>\n",
              "    </tr>\n",
              "    <tr>\n",
              "      <th>NE Zone</th>\n",
              "      <td>495.0</td>\n",
              "      <td>6645.0</td>\n",
              "      <td>1607.0</td>\n",
              "      <td>1318.0</td>\n",
              "      <td>851.0</td>\n",
              "      <td>4466.0</td>\n",
              "      <td>3210.0</td>\n",
              "      <td>1954.0</td>\n",
              "      <td>3914.0</td>\n",
              "      <td>2774.0</td>\n",
              "    </tr>\n",
              "    <tr>\n",
              "      <th>North Zone</th>\n",
              "      <td>1875.0</td>\n",
              "      <td>15019.0</td>\n",
              "      <td>2452.0</td>\n",
              "      <td>345.0</td>\n",
              "      <td>1296.0</td>\n",
              "      <td>10224.0</td>\n",
              "      <td>5144.0</td>\n",
              "      <td>1249.0</td>\n",
              "      <td>6169.0</td>\n",
              "      <td>3644.0</td>\n",
              "    </tr>\n",
              "    <tr>\n",
              "      <th>South Zone</th>\n",
              "      <td>2223.0</td>\n",
              "      <td>12423.0</td>\n",
              "      <td>2198.0</td>\n",
              "      <td>2730.0</td>\n",
              "      <td>4094.0</td>\n",
              "      <td>6473.0</td>\n",
              "      <td>5688.0</td>\n",
              "      <td>1697.0</td>\n",
              "      <td>6413.0</td>\n",
              "      <td>6271.0</td>\n",
              "    </tr>\n",
              "    <tr>\n",
              "      <th>Union Terr</th>\n",
              "      <td>NaN</td>\n",
              "      <td>334.0</td>\n",
              "      <td>57.0</td>\n",
              "      <td>98.0</td>\n",
              "      <td>144.0</td>\n",
              "      <td>174.0</td>\n",
              "      <td>104.0</td>\n",
              "      <td>46.0</td>\n",
              "      <td>92.0</td>\n",
              "      <td>142.0</td>\n",
              "    </tr>\n",
              "    <tr>\n",
              "      <th>West Zone</th>\n",
              "      <td>1751.0</td>\n",
              "      <td>9171.0</td>\n",
              "      <td>1370.0</td>\n",
              "      <td>513.0</td>\n",
              "      <td>2042.0</td>\n",
              "      <td>6053.0</td>\n",
              "      <td>1577.0</td>\n",
              "      <td>1464.0</td>\n",
              "      <td>5931.0</td>\n",
              "      <td>1780.0</td>\n",
              "    </tr>\n",
              "  </tbody>\n",
              "</table>\n",
              "</div>"
            ],
            "text/plain": [
              "cat_crop       Beans   Cereal  Commercial  ...  fibres  oilseeds  spices\n",
              "Zones                                      ...                          \n",
              "Central Zone  1608.0   6920.0      1142.0  ...  1457.0    4777.0  4027.0\n",
              "East Zone     1163.0  12771.0      1735.0  ...  1918.0    6505.0  3000.0\n",
              "NE Zone        495.0   6645.0      1607.0  ...  1954.0    3914.0  2774.0\n",
              "North Zone    1875.0  15019.0      2452.0  ...  1249.0    6169.0  3644.0\n",
              "South Zone    2223.0  12423.0      2198.0  ...  1697.0    6413.0  6271.0\n",
              "Union Terr       NaN    334.0        57.0  ...    46.0      92.0   142.0\n",
              "West Zone     1751.0   9171.0      1370.0  ...  1464.0    5931.0  1780.0\n",
              "\n",
              "[7 rows x 10 columns]"
            ]
          },
          "metadata": {
            "tags": []
          },
          "execution_count": 17
        }
      ]
    },
    {
      "cell_type": "code",
      "metadata": {
        "colab": {
          "base_uri": "https://localhost:8080/",
          "height": 706
        },
        "id": "tIjsM3tcCtpB",
        "outputId": "6a991bb2-a04f-497e-d3ea-895775b3bb73"
      },
      "source": [
        "# now we plot according to different categories in different macro regions\n",
        "ax = data.groupby(['Zones', 'cat_crop']).count()['Production'].unstack().plot.bar(stacked=True)\n",
        "ax.set_title('N. times that the specific crop recurs per category per macro-region')\n",
        "ax.set(xlabel='Zone', ylabel='rowsProduction')"
      ],
      "execution_count": 18,
      "outputs": [
        {
          "output_type": "execute_result",
          "data": {
            "text/plain": [
              "[Text(0, 0.5, 'rowsProduction'), Text(0.5, 0, 'Zone')]"
            ]
          },
          "metadata": {
            "tags": []
          },
          "execution_count": 18
        },
        {
          "output_type": "display_data",
          "data": {
            "image/png": "[encoded data removed]",
            "text/plain": [
              "<Figure size 720x720 with 1 Axes>"
            ]
          },
          "metadata": {
            "tags": []
          }
        }
      ]
    },
    {
      "cell_type": "code",
      "metadata": {
        "colab": {
          "base_uri": "https://localhost:8080/",
          "height": 289
        },
        "id": "A5thIfC_EuIW",
        "outputId": "de34369e-b908-4ec4-f78e-74258b006985"
      },
      "source": [
        "# here we are selecting only the cereals, as they are those who probably produced the most (actually that are most recurrent)\n",
        "data_cereals = data[data['cat_crop'] == 'Cereal']\n",
        "data_cereals.dropna(inplace = True)\n",
        "data_cereals.head()"
      ],
      "execution_count": 19,
      "outputs": [
        {
          "output_type": "stream",
          "text": [
            "/usr/local/lib/python3.7/dist-packages/ipykernel_launcher.py:3: SettingWithCopyWarning: \n",
            "A value is trying to be set on a copy of a slice from a DataFrame\n",
            "\n",
            "See the caveats in the documentation: https://pandas.pydata.org/pandas-docs/stable/user_guide/indexing.html#returning-a-view-versus-a-copy\n",
            "  This is separate from the ipykernel package so we can avoid doing imports until\n"
          ],
          "name": "stderr"
        },
        {
          "output_type": "execute_result",
          "data": {
            "text/html": [
              "<div>\n",
              "<style scoped>\n",
              "    .dataframe tbody tr th:only-of-type {\n",
              "        vertical-align: middle;\n",
              "    }\n",
              "\n",
              "    .dataframe tbody tr th {\n",
              "        vertical-align: top;\n",
              "    }\n",
              "\n",
              "    .dataframe thead th {\n",
              "        text-align: right;\n",
              "    }\n",
              "</style>\n",
              "<table border=\"1\" class=\"dataframe\">\n",
              "  <thead>\n",
              "    <tr style=\"text-align: right;\">\n",
              "      <th></th>\n",
              "      <th>State_Name</th>\n",
              "      <th>District_Name</th>\n",
              "      <th>Crop_Year</th>\n",
              "      <th>Season</th>\n",
              "      <th>Crop</th>\n",
              "      <th>Area</th>\n",
              "      <th>Production</th>\n",
              "      <th>Zones</th>\n",
              "      <th>cat_crop</th>\n",
              "    </tr>\n",
              "  </thead>\n",
              "  <tbody>\n",
              "    <tr>\n",
              "      <th>2</th>\n",
              "      <td>Andaman and Nicobar Islands</td>\n",
              "      <td>NICOBARS</td>\n",
              "      <td>2000</td>\n",
              "      <td>Kharif</td>\n",
              "      <td>Rice</td>\n",
              "      <td>102.00</td>\n",
              "      <td>321.00</td>\n",
              "      <td>Union Terr</td>\n",
              "      <td>Cereal</td>\n",
              "    </tr>\n",
              "    <tr>\n",
              "      <th>12</th>\n",
              "      <td>Andaman and Nicobar Islands</td>\n",
              "      <td>NICOBARS</td>\n",
              "      <td>2001</td>\n",
              "      <td>Kharif</td>\n",
              "      <td>Rice</td>\n",
              "      <td>83.00</td>\n",
              "      <td>300.00</td>\n",
              "      <td>Union Terr</td>\n",
              "      <td>Cereal</td>\n",
              "    </tr>\n",
              "    <tr>\n",
              "      <th>18</th>\n",
              "      <td>Andaman and Nicobar Islands</td>\n",
              "      <td>NICOBARS</td>\n",
              "      <td>2002</td>\n",
              "      <td>Kharif</td>\n",
              "      <td>Rice</td>\n",
              "      <td>189.20</td>\n",
              "      <td>510.84</td>\n",
              "      <td>Union Terr</td>\n",
              "      <td>Cereal</td>\n",
              "    </tr>\n",
              "    <tr>\n",
              "      <th>27</th>\n",
              "      <td>Andaman and Nicobar Islands</td>\n",
              "      <td>NICOBARS</td>\n",
              "      <td>2003</td>\n",
              "      <td>Kharif</td>\n",
              "      <td>Rice</td>\n",
              "      <td>52.00</td>\n",
              "      <td>90.17</td>\n",
              "      <td>Union Terr</td>\n",
              "      <td>Cereal</td>\n",
              "    </tr>\n",
              "    <tr>\n",
              "      <th>36</th>\n",
              "      <td>Andaman and Nicobar Islands</td>\n",
              "      <td>NICOBARS</td>\n",
              "      <td>2004</td>\n",
              "      <td>Kharif</td>\n",
              "      <td>Rice</td>\n",
              "      <td>52.94</td>\n",
              "      <td>72.57</td>\n",
              "      <td>Union Terr</td>\n",
              "      <td>Cereal</td>\n",
              "    </tr>\n",
              "  </tbody>\n",
              "</table>\n",
              "</div>"
            ],
            "text/plain": [
              "                     State_Name District_Name  ...       Zones cat_crop\n",
              "2   Andaman and Nicobar Islands      NICOBARS  ...  Union Terr   Cereal\n",
              "12  Andaman and Nicobar Islands      NICOBARS  ...  Union Terr   Cereal\n",
              "18  Andaman and Nicobar Islands      NICOBARS  ...  Union Terr   Cereal\n",
              "27  Andaman and Nicobar Islands      NICOBARS  ...  Union Terr   Cereal\n",
              "36  Andaman and Nicobar Islands      NICOBARS  ...  Union Terr   Cereal\n",
              "\n",
              "[5 rows x 9 columns]"
            ]
          },
          "metadata": {
            "tags": []
          },
          "execution_count": 19
        }
      ]
    },
    {
      "cell_type": "code",
      "metadata": {
        "colab": {
          "base_uri": "https://localhost:8080/",
          "height": 762
        },
        "id": "SvV3wQ3UGQEW",
        "outputId": "7e23fe69-2869-4e8a-9147-d99c19e6e2de"
      },
      "source": [
        "# We see that in absolute terms rice in these year is the most produced, followed by wheat.\n",
        "# we this graph we cannot saying anything in relation to the last years, as it is a total sum\n",
        "\n",
        "ax =  data_cereals.groupby(['Crop', 'Zones']).sum()['Production'].unstack().fillna(0).plot.bar(stacked=True)\n",
        "\n",
        "ax.set_title('total production of the cereal type per macro-region')\n",
        "ax.set(xlabel='Cereal type', ylabel='sum of the production')"
      ],
      "execution_count": 20,
      "outputs": [
        {
          "output_type": "execute_result",
          "data": {
            "text/plain": [
              "[Text(0, 0.5, 'sum of the production'), Text(0.5, 0, 'Zone')]"
            ]
          },
          "metadata": {
            "tags": []
          },
          "execution_count": 20
        },
        {
          "output_type": "display_data",
          "data": {
            "image/png": "[encoded data removed]",
            "text/plain": [
              "<Figure size 720x720 with 1 Axes>"
            ]
          },
          "metadata": {
            "tags": []
          }
        }
      ]
    },
    {
      "cell_type": "code",
      "metadata": {
        "colab": {
          "base_uri": "https://localhost:8080/",
          "height": 706
        },
        "id": "7cr2gS72QwLl",
        "outputId": "41d120df-a258-424d-dc24-7631d8d5d90b"
      },
      "source": [
        "# We see that in absolute terms rice in these year is the most produced, followed by wheat.\n",
        "# we this graph we cannot saying anything in relation to the last years, as it is a total sum\n",
        "\n",
        "ax =  data_cereals.groupby(['Zones','Crop']).sum()['Production'].unstack().fillna(0).plot.bar(stacked=True)\n",
        "\n",
        "ax.set_title('Total production of the macro-regions for each ceral')\n",
        "ax.set(xlabel='Macro Region', ylabel='sum of the production')"
      ],
      "execution_count": 22,
      "outputs": [
        {
          "output_type": "execute_result",
          "data": {
            "text/plain": [
              "[Text(0, 0.5, 'sum of the production'), Text(0.5, 0, 'Macro Region')]"
            ]
          },
          "metadata": {
            "tags": []
          },
          "execution_count": 22
        },
        {
          "output_type": "display_data",
          "data": {
            "image/png": "[encoded data removed]",
            "text/plain": [
              "<Figure size 720x720 with 1 Axes>"
            ]
          },
          "metadata": {
            "tags": []
          }
        }
      ]
    },
    {
      "cell_type": "markdown",
      "metadata": {
        "id": "Z522QMRTRCze"
      },
      "source": [
        "From the two graphs above we can say that:\n",
        "1. Rice and Wheat are by far the most cultivated.\n",
        "1. North Zone seems to be by far the region with the largest production"
      ]
    },
    {
      "cell_type": "code",
      "metadata": {
        "colab": {
          "base_uri": "https://localhost:8080/",
          "height": 433
        },
        "id": "JaCyHC38gS0S",
        "outputId": "7969583a-d657-4a07-ede7-3e6a1002745c"
      },
      "source": [
        "data_cereals.groupby(['Zones','Crop',]).sum()['Production'].unstack().fillna(0)"
      ],
      "execution_count": 23,
      "outputs": [
        {
          "output_type": "execute_result",
          "data": {
            "text/html": [
              "<div>\n",
              "<style scoped>\n",
              "    .dataframe tbody tr th:only-of-type {\n",
              "        vertical-align: middle;\n",
              "    }\n",
              "\n",
              "    .dataframe tbody tr th {\n",
              "        vertical-align: top;\n",
              "    }\n",
              "\n",
              "    .dataframe thead th {\n",
              "        text-align: right;\n",
              "    }\n",
              "</style>\n",
              "<table border=\"1\" class=\"dataframe\">\n",
              "  <thead>\n",
              "    <tr style=\"text-align: right;\">\n",
              "      <th>Crop</th>\n",
              "      <th>Bajra</th>\n",
              "      <th>Barley</th>\n",
              "      <th>Jobster</th>\n",
              "      <th>Jowar</th>\n",
              "      <th>Maize</th>\n",
              "      <th>Other Cereals &amp; Millets</th>\n",
              "      <th>Paddy</th>\n",
              "      <th>Ragi</th>\n",
              "      <th>Rice</th>\n",
              "      <th>Small millets</th>\n",
              "      <th>Total foodgrain</th>\n",
              "      <th>Varagu</th>\n",
              "      <th>Wheat</th>\n",
              "    </tr>\n",
              "    <tr>\n",
              "      <th>Zones</th>\n",
              "      <th></th>\n",
              "      <th></th>\n",
              "      <th></th>\n",
              "      <th></th>\n",
              "      <th></th>\n",
              "      <th></th>\n",
              "      <th></th>\n",
              "      <th></th>\n",
              "      <th></th>\n",
              "      <th></th>\n",
              "      <th></th>\n",
              "      <th></th>\n",
              "      <th></th>\n",
              "    </tr>\n",
              "  </thead>\n",
              "  <tbody>\n",
              "    <tr>\n",
              "      <th>Central Zone</th>\n",
              "      <td>4445162.3</td>\n",
              "      <td>1725446.00</td>\n",
              "      <td>0.0</td>\n",
              "      <td>10141637.0</td>\n",
              "      <td>2.489808e+07</td>\n",
              "      <td>0.0</td>\n",
              "      <td>1530500.0</td>\n",
              "      <td>36656.80</td>\n",
              "      <td>1.091213e+08</td>\n",
              "      <td>2012700.0</td>\n",
              "      <td>0.0</td>\n",
              "      <td>0.0</td>\n",
              "      <td>148827976.0</td>\n",
              "    </tr>\n",
              "    <tr>\n",
              "      <th>East Zone</th>\n",
              "      <td>64920.0</td>\n",
              "      <td>414439.52</td>\n",
              "      <td>0.0</td>\n",
              "      <td>131601.0</td>\n",
              "      <td>4.028164e+07</td>\n",
              "      <td>0.0</td>\n",
              "      <td>6204467.0</td>\n",
              "      <td>1597036.78</td>\n",
              "      <td>4.770659e+08</td>\n",
              "      <td>208047.0</td>\n",
              "      <td>0.0</td>\n",
              "      <td>0.0</td>\n",
              "      <td>97495236.0</td>\n",
              "    </tr>\n",
              "    <tr>\n",
              "      <th>NE Zone</th>\n",
              "      <td>24230.0</td>\n",
              "      <td>57938.00</td>\n",
              "      <td>1180.0</td>\n",
              "      <td>20840.0</td>\n",
              "      <td>5.281954e+06</td>\n",
              "      <td>21957.0</td>\n",
              "      <td>19095877.0</td>\n",
              "      <td>1700.00</td>\n",
              "      <td>9.936938e+07</td>\n",
              "      <td>699062.0</td>\n",
              "      <td>264842.0</td>\n",
              "      <td>0.0</td>\n",
              "      <td>1606962.0</td>\n",
              "    </tr>\n",
              "    <tr>\n",
              "      <th>North Zone</th>\n",
              "      <td>38076272.7</td>\n",
              "      <td>12457526.40</td>\n",
              "      <td>0.0</td>\n",
              "      <td>4818426.1</td>\n",
              "      <td>4.416427e+07</td>\n",
              "      <td>521729.7</td>\n",
              "      <td>0.0</td>\n",
              "      <td>2391068.00</td>\n",
              "      <td>4.625489e+08</td>\n",
              "      <td>973779.1</td>\n",
              "      <td>33813088.0</td>\n",
              "      <td>0.0</td>\n",
              "      <td>926972177.8</td>\n",
              "    </tr>\n",
              "    <tr>\n",
              "      <th>South Zone</th>\n",
              "      <td>8141147.0</td>\n",
              "      <td>0.00</td>\n",
              "      <td>0.0</td>\n",
              "      <td>38114172.0</td>\n",
              "      <td>1.085974e+08</td>\n",
              "      <td>77730.0</td>\n",
              "      <td>4816536.0</td>\n",
              "      <td>28398281.00</td>\n",
              "      <td>3.894912e+08</td>\n",
              "      <td>1299147.1</td>\n",
              "      <td>9121209.0</td>\n",
              "      <td>49694.0</td>\n",
              "      <td>4009772.0</td>\n",
              "    </tr>\n",
              "    <tr>\n",
              "      <th>Union Terr</th>\n",
              "      <td>3040.0</td>\n",
              "      <td>0.00</td>\n",
              "      <td>0.0</td>\n",
              "      <td>7819.0</td>\n",
              "      <td>1.467620e+03</td>\n",
              "      <td>729.0</td>\n",
              "      <td>55021.0</td>\n",
              "      <td>33991.00</td>\n",
              "      <td>1.663829e+06</td>\n",
              "      <td>3306.0</td>\n",
              "      <td>0.0</td>\n",
              "      <td>0.0</td>\n",
              "      <td>17134.0</td>\n",
              "    </tr>\n",
              "    <tr>\n",
              "      <th>West Zone</th>\n",
              "      <td>78926224.0</td>\n",
              "      <td>7442917.00</td>\n",
              "      <td>0.0</td>\n",
              "      <td>61363764.0</td>\n",
              "      <td>5.011699e+07</td>\n",
              "      <td>563900.0</td>\n",
              "      <td>0.0</td>\n",
              "      <td>2672667.58</td>\n",
              "      <td>6.620980e+07</td>\n",
              "      <td>434334.4</td>\n",
              "      <td>71618.0</td>\n",
              "      <td>0.0</td>\n",
              "      <td>153896399.0</td>\n",
              "    </tr>\n",
              "  </tbody>\n",
              "</table>\n",
              "</div>"
            ],
            "text/plain": [
              "Crop               Bajra       Barley  ...   Varagu        Wheat\n",
              "Zones                                  ...                      \n",
              "Central Zone   4445162.3   1725446.00  ...      0.0  148827976.0\n",
              "East Zone        64920.0    414439.52  ...      0.0   97495236.0\n",
              "NE Zone          24230.0     57938.00  ...      0.0    1606962.0\n",
              "North Zone    38076272.7  12457526.40  ...      0.0  926972177.8\n",
              "South Zone     8141147.0         0.00  ...  49694.0    4009772.0\n",
              "Union Terr        3040.0         0.00  ...      0.0      17134.0\n",
              "West Zone     78926224.0   7442917.00  ...      0.0  153896399.0\n",
              "\n",
              "[7 rows x 13 columns]"
            ]
          },
          "metadata": {
            "tags": []
          },
          "execution_count": 23
        }
      ]
    },
    {
      "cell_type": "code",
      "metadata": {
        "id": "89OgcLzxDn4_",
        "colab": {
          "base_uri": "https://localhost:8080/",
          "height": 666
        },
        "outputId": "72e4875b-0b27-4ee7-8a23-66f57038a8db"
      },
      "source": [
        "# in this pieplot we see the different cereals in their total production expressed in % in relation to the 6 macroareas\n",
        "\n",
        "labels = ['C', 'E', 'NE', 'N', 'S', 'UT', 'W'] \n",
        "\n",
        "import itertools\n",
        "\n",
        "\n",
        "count = 0\n",
        "fig1, ax1 = plt.subplots(3,5, figsize=(10,10))\n",
        "fig1.suptitle('production of all cereals in the different macro regions', fontsize=16)\n",
        "\n",
        "for i in range(0,3):\n",
        "  for j in range(0,5): \n",
        "    #print(i*j, count)\n",
        "    if i*j < 6: #this is only to avoid the error report, as we have less than i*j plots, we have only 13, so two subplots will remain empty\n",
        "\n",
        "          ax1[i,j].pie(data_cereals.groupby(['Zones','Crop',]).sum()['Production'].unstack().fillna(0).iloc[:,count], \n",
        "                      labels = labels, shadow = True, startangle = 90)\n",
        "          ax1[i,j].axis('equal')  # Equal aspect ratio ensures that pie is drawn as a circle.\n",
        "          ax1[i,j].title.set_text(data_cereals.groupby(['Zones','Crop',]).sum()['Production'].unstack().fillna(0).columns[count])\n",
        "          count =+ count + 1\n",
        "          #print(i, j, count)\n",
        "plt.show()\n"
      ],
      "execution_count": 71,
      "outputs": [
        {
          "output_type": "display_data",
          "data": {
            "image/png": "[encoded data removed]",
            "text/plain": [
              "<Figure size 720x720 with 15 Axes>"
            ]
          },
          "metadata": {
            "tags": []
          }
        }
      ]
    },
    {
      "cell_type": "markdown",
      "metadata": {
        "id": "U1c62f-FTTOV"
      },
      "source": [
        "As it can be seen in the above plots, certain cereals are only cultivated in certain areas (Varagu only in the south zone, and Jobster in the north East). \n",
        "ON the other hand rice is almost heavenly cultived across India, while wheat way more in the North."
      ]
    },
    {
      "cell_type": "markdown",
      "metadata": {
        "id": "rBIXZQXbTyBd"
      },
      "source": [
        "# Now we will focus on rice and wheat, as they are the most important"
      ]
    },
    {
      "cell_type": "markdown",
      "metadata": {
        "id": "BwsERNGWUx0_"
      },
      "source": [
        "# **RICE FIRST**"
      ]
    },
    {
      "cell_type": "code",
      "metadata": {
        "colab": {
          "base_uri": "https://localhost:8080/",
          "height": 289
        },
        "id": "yDmU_iq5TsRN",
        "outputId": "c08d1246-c0eb-4d03-bd31-36f0b82534bf"
      },
      "source": [
        "# here we are selecting only the data_rice, as they are those who probably produced the most (actually that are most recurrent)\n",
        "data_rice = data[data['Crop'] == 'Rice']\n",
        "data_rice.dropna(inplace = True)\n",
        "data_rice.head()"
      ],
      "execution_count": 38,
      "outputs": [
        {
          "output_type": "stream",
          "text": [
            "/usr/local/lib/python3.7/dist-packages/ipykernel_launcher.py:3: SettingWithCopyWarning: \n",
            "A value is trying to be set on a copy of a slice from a DataFrame\n",
            "\n",
            "See the caveats in the documentation: https://pandas.pydata.org/pandas-docs/stable/user_guide/indexing.html#returning-a-view-versus-a-copy\n",
            "  This is separate from the ipykernel package so we can avoid doing imports until\n"
          ],
          "name": "stderr"
        },
        {
          "output_type": "execute_result",
          "data": {
            "text/html": [
              "<div>\n",
              "<style scoped>\n",
              "    .dataframe tbody tr th:only-of-type {\n",
              "        vertical-align: middle;\n",
              "    }\n",
              "\n",
              "    .dataframe tbody tr th {\n",
              "        vertical-align: top;\n",
              "    }\n",
              "\n",
              "    .dataframe thead th {\n",
              "        text-align: right;\n",
              "    }\n",
              "</style>\n",
              "<table border=\"1\" class=\"dataframe\">\n",
              "  <thead>\n",
              "    <tr style=\"text-align: right;\">\n",
              "      <th></th>\n",
              "      <th>State_Name</th>\n",
              "      <th>District_Name</th>\n",
              "      <th>Crop_Year</th>\n",
              "      <th>Season</th>\n",
              "      <th>Crop</th>\n",
              "      <th>Area</th>\n",
              "      <th>Production</th>\n",
              "      <th>Zones</th>\n",
              "      <th>cat_crop</th>\n",
              "    </tr>\n",
              "  </thead>\n",
              "  <tbody>\n",
              "    <tr>\n",
              "      <th>2</th>\n",
              "      <td>Andaman and Nicobar Islands</td>\n",
              "      <td>NICOBARS</td>\n",
              "      <td>2000</td>\n",
              "      <td>Kharif</td>\n",
              "      <td>Rice</td>\n",
              "      <td>102.00</td>\n",
              "      <td>321.00</td>\n",
              "      <td>Union Terr</td>\n",
              "      <td>Cereal</td>\n",
              "    </tr>\n",
              "    <tr>\n",
              "      <th>12</th>\n",
              "      <td>Andaman and Nicobar Islands</td>\n",
              "      <td>NICOBARS</td>\n",
              "      <td>2001</td>\n",
              "      <td>Kharif</td>\n",
              "      <td>Rice</td>\n",
              "      <td>83.00</td>\n",
              "      <td>300.00</td>\n",
              "      <td>Union Terr</td>\n",
              "      <td>Cereal</td>\n",
              "    </tr>\n",
              "    <tr>\n",
              "      <th>18</th>\n",
              "      <td>Andaman and Nicobar Islands</td>\n",
              "      <td>NICOBARS</td>\n",
              "      <td>2002</td>\n",
              "      <td>Kharif</td>\n",
              "      <td>Rice</td>\n",
              "      <td>189.20</td>\n",
              "      <td>510.84</td>\n",
              "      <td>Union Terr</td>\n",
              "      <td>Cereal</td>\n",
              "    </tr>\n",
              "    <tr>\n",
              "      <th>27</th>\n",
              "      <td>Andaman and Nicobar Islands</td>\n",
              "      <td>NICOBARS</td>\n",
              "      <td>2003</td>\n",
              "      <td>Kharif</td>\n",
              "      <td>Rice</td>\n",
              "      <td>52.00</td>\n",
              "      <td>90.17</td>\n",
              "      <td>Union Terr</td>\n",
              "      <td>Cereal</td>\n",
              "    </tr>\n",
              "    <tr>\n",
              "      <th>36</th>\n",
              "      <td>Andaman and Nicobar Islands</td>\n",
              "      <td>NICOBARS</td>\n",
              "      <td>2004</td>\n",
              "      <td>Kharif</td>\n",
              "      <td>Rice</td>\n",
              "      <td>52.94</td>\n",
              "      <td>72.57</td>\n",
              "      <td>Union Terr</td>\n",
              "      <td>Cereal</td>\n",
              "    </tr>\n",
              "  </tbody>\n",
              "</table>\n",
              "</div>"
            ],
            "text/plain": [
              "                     State_Name District_Name  ...       Zones cat_crop\n",
              "2   Andaman and Nicobar Islands      NICOBARS  ...  Union Terr   Cereal\n",
              "12  Andaman and Nicobar Islands      NICOBARS  ...  Union Terr   Cereal\n",
              "18  Andaman and Nicobar Islands      NICOBARS  ...  Union Terr   Cereal\n",
              "27  Andaman and Nicobar Islands      NICOBARS  ...  Union Terr   Cereal\n",
              "36  Andaman and Nicobar Islands      NICOBARS  ...  Union Terr   Cereal\n",
              "\n",
              "[5 rows x 9 columns]"
            ]
          },
          "metadata": {
            "tags": []
          },
          "execution_count": 38
        }
      ]
    },
    {
      "cell_type": "code",
      "metadata": {
        "colab": {
          "base_uri": "https://localhost:8080/",
          "height": 426
        },
        "id": "l3Y1EugBUwue",
        "outputId": "c4ab5b7a-f3dd-4749-822d-ca360c2c4b1b"
      },
      "source": [
        "# here we see the rice production in these years\n",
        "data_rice.groupby([\"Crop_Year\"])['Production', 'Area'].sum().plot(legend=True, xlabel = 'Year',title = 'RICE', ylabel = 'Production & Area', figsize =(7,5))\n",
        "# it has dropped in the last year, probably because the data are incomplete. it is almost 100 times less. It can't be so small\n",
        "# However we see that the production is increased more than the area. There must have been some sort of technological improvement"
      ],
      "execution_count": 68,
      "outputs": [
        {
          "output_type": "stream",
          "text": [
            "/usr/local/lib/python3.7/dist-packages/ipykernel_launcher.py:2: FutureWarning: Indexing with multiple keys (implicitly converted to a tuple of keys) will be deprecated, use a list instead.\n",
            "  \n"
          ],
          "name": "stderr"
        },
        {
          "output_type": "execute_result",
          "data": {
            "text/plain": [
              "<matplotlib.axes._subplots.AxesSubplot at 0x7f5d542bfcd0>"
            ]
          },
          "metadata": {
            "tags": []
          },
          "execution_count": 68
        },
        {
          "output_type": "display_data",
          "data": {
            "image/png": "[encoded data removed]",
            "text/plain": [
              "<Figure size 504x360 with 1 Axes>"
            ]
          },
          "metadata": {
            "tags": []
          }
        }
      ]
    },
    {
      "cell_type": "code",
      "metadata": {
        "colab": {
          "base_uri": "https://localhost:8080/",
          "height": 419
        },
        "id": "wSWAdtOlbjfx",
        "outputId": "1e1c9d85-35eb-44d4-b44d-29d88502ba41"
      },
      "source": [
        "data_rice"
      ],
      "execution_count": 74,
      "outputs": [
        {
          "output_type": "execute_result",
          "data": {
            "text/html": [
              "<div>\n",
              "<style scoped>\n",
              "    .dataframe tbody tr th:only-of-type {\n",
              "        vertical-align: middle;\n",
              "    }\n",
              "\n",
              "    .dataframe tbody tr th {\n",
              "        vertical-align: top;\n",
              "    }\n",
              "\n",
              "    .dataframe thead th {\n",
              "        text-align: right;\n",
              "    }\n",
              "</style>\n",
              "<table border=\"1\" class=\"dataframe\">\n",
              "  <thead>\n",
              "    <tr style=\"text-align: right;\">\n",
              "      <th></th>\n",
              "      <th>State_Name</th>\n",
              "      <th>District_Name</th>\n",
              "      <th>Crop_Year</th>\n",
              "      <th>Season</th>\n",
              "      <th>Crop</th>\n",
              "      <th>Area</th>\n",
              "      <th>Production</th>\n",
              "      <th>Zones</th>\n",
              "      <th>cat_crop</th>\n",
              "    </tr>\n",
              "  </thead>\n",
              "  <tbody>\n",
              "    <tr>\n",
              "      <th>2</th>\n",
              "      <td>Andaman and Nicobar Islands</td>\n",
              "      <td>NICOBARS</td>\n",
              "      <td>2000</td>\n",
              "      <td>Kharif</td>\n",
              "      <td>Rice</td>\n",
              "      <td>102.00</td>\n",
              "      <td>321.00</td>\n",
              "      <td>Union Terr</td>\n",
              "      <td>Cereal</td>\n",
              "    </tr>\n",
              "    <tr>\n",
              "      <th>12</th>\n",
              "      <td>Andaman and Nicobar Islands</td>\n",
              "      <td>NICOBARS</td>\n",
              "      <td>2001</td>\n",
              "      <td>Kharif</td>\n",
              "      <td>Rice</td>\n",
              "      <td>83.00</td>\n",
              "      <td>300.00</td>\n",
              "      <td>Union Terr</td>\n",
              "      <td>Cereal</td>\n",
              "    </tr>\n",
              "    <tr>\n",
              "      <th>18</th>\n",
              "      <td>Andaman and Nicobar Islands</td>\n",
              "      <td>NICOBARS</td>\n",
              "      <td>2002</td>\n",
              "      <td>Kharif</td>\n",
              "      <td>Rice</td>\n",
              "      <td>189.20</td>\n",
              "      <td>510.84</td>\n",
              "      <td>Union Terr</td>\n",
              "      <td>Cereal</td>\n",
              "    </tr>\n",
              "    <tr>\n",
              "      <th>27</th>\n",
              "      <td>Andaman and Nicobar Islands</td>\n",
              "      <td>NICOBARS</td>\n",
              "      <td>2003</td>\n",
              "      <td>Kharif</td>\n",
              "      <td>Rice</td>\n",
              "      <td>52.00</td>\n",
              "      <td>90.17</td>\n",
              "      <td>Union Terr</td>\n",
              "      <td>Cereal</td>\n",
              "    </tr>\n",
              "    <tr>\n",
              "      <th>36</th>\n",
              "      <td>Andaman and Nicobar Islands</td>\n",
              "      <td>NICOBARS</td>\n",
              "      <td>2004</td>\n",
              "      <td>Kharif</td>\n",
              "      <td>Rice</td>\n",
              "      <td>52.94</td>\n",
              "      <td>72.57</td>\n",
              "      <td>Union Terr</td>\n",
              "      <td>Cereal</td>\n",
              "    </tr>\n",
              "    <tr>\n",
              "      <th>...</th>\n",
              "      <td>...</td>\n",
              "      <td>...</td>\n",
              "      <td>...</td>\n",
              "      <td>...</td>\n",
              "      <td>...</td>\n",
              "      <td>...</td>\n",
              "      <td>...</td>\n",
              "      <td>...</td>\n",
              "      <td>...</td>\n",
              "    </tr>\n",
              "    <tr>\n",
              "      <th>246049</th>\n",
              "      <td>West Bengal</td>\n",
              "      <td>PURULIA</td>\n",
              "      <td>2013</td>\n",
              "      <td>Summer</td>\n",
              "      <td>Rice</td>\n",
              "      <td>516.00</td>\n",
              "      <td>1274.00</td>\n",
              "      <td>East Zone</td>\n",
              "      <td>Cereal</td>\n",
              "    </tr>\n",
              "    <tr>\n",
              "      <th>246052</th>\n",
              "      <td>West Bengal</td>\n",
              "      <td>PURULIA</td>\n",
              "      <td>2013</td>\n",
              "      <td>Winter</td>\n",
              "      <td>Rice</td>\n",
              "      <td>302274.00</td>\n",
              "      <td>730136.00</td>\n",
              "      <td>East Zone</td>\n",
              "      <td>Cereal</td>\n",
              "    </tr>\n",
              "    <tr>\n",
              "      <th>246058</th>\n",
              "      <td>West Bengal</td>\n",
              "      <td>PURULIA</td>\n",
              "      <td>2014</td>\n",
              "      <td>Autumn</td>\n",
              "      <td>Rice</td>\n",
              "      <td>264.00</td>\n",
              "      <td>721.00</td>\n",
              "      <td>East Zone</td>\n",
              "      <td>Cereal</td>\n",
              "    </tr>\n",
              "    <tr>\n",
              "      <th>246086</th>\n",
              "      <td>West Bengal</td>\n",
              "      <td>PURULIA</td>\n",
              "      <td>2014</td>\n",
              "      <td>Summer</td>\n",
              "      <td>Rice</td>\n",
              "      <td>306.00</td>\n",
              "      <td>801.00</td>\n",
              "      <td>East Zone</td>\n",
              "      <td>Cereal</td>\n",
              "    </tr>\n",
              "    <tr>\n",
              "      <th>246089</th>\n",
              "      <td>West Bengal</td>\n",
              "      <td>PURULIA</td>\n",
              "      <td>2014</td>\n",
              "      <td>Winter</td>\n",
              "      <td>Rice</td>\n",
              "      <td>279151.00</td>\n",
              "      <td>597899.00</td>\n",
              "      <td>East Zone</td>\n",
              "      <td>Cereal</td>\n",
              "    </tr>\n",
              "  </tbody>\n",
              "</table>\n",
              "<p>15082 rows × 9 columns</p>\n",
              "</div>"
            ],
            "text/plain": [
              "                         State_Name District_Name  ...       Zones cat_crop\n",
              "2       Andaman and Nicobar Islands      NICOBARS  ...  Union Terr   Cereal\n",
              "12      Andaman and Nicobar Islands      NICOBARS  ...  Union Terr   Cereal\n",
              "18      Andaman and Nicobar Islands      NICOBARS  ...  Union Terr   Cereal\n",
              "27      Andaman and Nicobar Islands      NICOBARS  ...  Union Terr   Cereal\n",
              "36      Andaman and Nicobar Islands      NICOBARS  ...  Union Terr   Cereal\n",
              "...                             ...           ...  ...         ...      ...\n",
              "246049                  West Bengal       PURULIA  ...   East Zone   Cereal\n",
              "246052                  West Bengal       PURULIA  ...   East Zone   Cereal\n",
              "246058                  West Bengal       PURULIA  ...   East Zone   Cereal\n",
              "246086                  West Bengal       PURULIA  ...   East Zone   Cereal\n",
              "246089                  West Bengal       PURULIA  ...   East Zone   Cereal\n",
              "\n",
              "[15082 rows x 9 columns]"
            ]
          },
          "metadata": {
            "tags": []
          },
          "execution_count": 74
        }
      ]
    },
    {
      "cell_type": "markdown",
      "metadata": {
        "id": "7BeC_zGXdCBh"
      },
      "source": [
        "# applying multiple linear regression & Random forest for Rice"
      ]
    },
    {
      "cell_type": "code",
      "metadata": {
        "colab": {
          "base_uri": "https://localhost:8080/"
        },
        "id": "HWeOxUbmfbQh",
        "outputId": "7861e032-667e-4ae0-b629-313e2d11af91"
      },
      "source": [
        "# here we select all those years before 2015 (where we clearly have missing data)\n",
        "data_rice_dropped = data_rice[data_rice['Crop_Year'] <= 2014]\n",
        "data_rice_dropped.Crop_Year.unique()"
      ],
      "execution_count": 92,
      "outputs": [
        {
          "output_type": "execute_result",
          "data": {
            "text/plain": [
              "array([2000, 2001, 2002, 2003, 2004, 2005, 2010, 2006, 1997, 1998, 1999,\n",
              "       2007, 2008, 2009, 2011, 2012, 2013, 2014])"
            ]
          },
          "metadata": {
            "tags": []
          },
          "execution_count": 92
        }
      ]
    },
    {
      "cell_type": "code",
      "metadata": {
        "id": "srkjuNjSbyOR"
      },
      "source": [
        "# here we do some work to prepare the variables. we scale them and we prepare the dummies\n",
        "from sklearn.preprocessing import StandardScaler\n",
        "\n",
        "dummies = pd.get_dummies(data_rice_dropped[['Season','State_Name','District_Name', 'Crop_Year', 'Area']])\n",
        "scale = StandardScaler()\n",
        "dummies_scaled = dummies.copy()\n",
        "dummies_scaled[['Crop_Year','Area']]= scale.fit_transform(dummies[['Crop_Year','Area']])\n",
        "y = data_rice_dropped['Production']"
      ],
      "execution_count": 93,
      "outputs": []
    },
    {
      "cell_type": "code",
      "metadata": {
        "id": "fqFLwZWZfAcD"
      },
      "source": [
        "# and splitting the dataset in train and test dataset\n",
        "from sklearn.model_selection import train_test_split\n",
        "X_train, X_test, y_train, y_test = train_test_split(dummies_scaled, y, test_size=0.30, random_state=42)"
      ],
      "execution_count": 94,
      "outputs": []
    },
    {
      "cell_type": "code",
      "metadata": {
        "colab": {
          "base_uri": "https://localhost:8080/",
          "height": 473
        },
        "id": "3mDAJf9ghhni",
        "outputId": "e581b28a-9c1c-4575-cec0-66b154618763"
      },
      "source": [
        "X_train"
      ],
      "execution_count": 100,
      "outputs": [
        {
          "output_type": "execute_result",
          "data": {
            "text/html": [
              "<div>\n",
              "<style scoped>\n",
              "    .dataframe tbody tr th:only-of-type {\n",
              "        vertical-align: middle;\n",
              "    }\n",
              "\n",
              "    .dataframe tbody tr th {\n",
              "        vertical-align: top;\n",
              "    }\n",
              "\n",
              "    .dataframe thead th {\n",
              "        text-align: right;\n",
              "    }\n",
              "</style>\n",
              "<table border=\"1\" class=\"dataframe\">\n",
              "  <thead>\n",
              "    <tr style=\"text-align: right;\">\n",
              "      <th></th>\n",
              "      <th>Crop_Year</th>\n",
              "      <th>Area</th>\n",
              "      <th>Season_Autumn</th>\n",
              "      <th>Season_Kharif</th>\n",
              "      <th>Season_Rabi</th>\n",
              "      <th>Season_Summer</th>\n",
              "      <th>Season_Whole Year</th>\n",
              "      <th>Season_Winter</th>\n",
              "      <th>State_Name_Andaman and Nicobar Islands</th>\n",
              "      <th>State_Name_Andhra Pradesh</th>\n",
              "      <th>State_Name_Arunachal Pradesh</th>\n",
              "      <th>State_Name_Assam</th>\n",
              "      <th>State_Name_Bihar</th>\n",
              "      <th>State_Name_Chandigarh</th>\n",
              "      <th>State_Name_Chhattisgarh</th>\n",
              "      <th>State_Name_Dadra and Nagar Haveli</th>\n",
              "      <th>State_Name_Goa</th>\n",
              "      <th>State_Name_Gujarat</th>\n",
              "      <th>State_Name_Haryana</th>\n",
              "      <th>State_Name_Himachal Pradesh</th>\n",
              "      <th>State_Name_Jammu and Kashmir</th>\n",
              "      <th>State_Name_Jharkhand</th>\n",
              "      <th>State_Name_Karnataka</th>\n",
              "      <th>State_Name_Kerala</th>\n",
              "      <th>State_Name_Madhya Pradesh</th>\n",
              "      <th>State_Name_Maharashtra</th>\n",
              "      <th>State_Name_Manipur</th>\n",
              "      <th>State_Name_Meghalaya</th>\n",
              "      <th>State_Name_Mizoram</th>\n",
              "      <th>State_Name_Nagaland</th>\n",
              "      <th>State_Name_Odisha</th>\n",
              "      <th>State_Name_Puducherry</th>\n",
              "      <th>State_Name_Punjab</th>\n",
              "      <th>State_Name_Rajasthan</th>\n",
              "      <th>State_Name_Sikkim</th>\n",
              "      <th>State_Name_Tamil Nadu</th>\n",
              "      <th>State_Name_Telangana</th>\n",
              "      <th>State_Name_Tripura</th>\n",
              "      <th>State_Name_Uttar Pradesh</th>\n",
              "      <th>State_Name_Uttarakhand</th>\n",
              "      <th>...</th>\n",
              "      <th>District_Name_UDUPI</th>\n",
              "      <th>District_Name_UJJAIN</th>\n",
              "      <th>District_Name_UKHRUL</th>\n",
              "      <th>District_Name_UMARIA</th>\n",
              "      <th>District_Name_UNA</th>\n",
              "      <th>District_Name_UNAKOTI</th>\n",
              "      <th>District_Name_UNNAO</th>\n",
              "      <th>District_Name_UPPER SIANG</th>\n",
              "      <th>District_Name_UPPER SUBANSIRI</th>\n",
              "      <th>District_Name_UTTAR KANNAD</th>\n",
              "      <th>District_Name_UTTAR KASHI</th>\n",
              "      <th>District_Name_VADODARA</th>\n",
              "      <th>District_Name_VAISHALI</th>\n",
              "      <th>District_Name_VALSAD</th>\n",
              "      <th>District_Name_VARANASI</th>\n",
              "      <th>District_Name_VELLORE</th>\n",
              "      <th>District_Name_VIDISHA</th>\n",
              "      <th>District_Name_VILLUPURAM</th>\n",
              "      <th>District_Name_VIRUDHUNAGAR</th>\n",
              "      <th>District_Name_VISAKHAPATANAM</th>\n",
              "      <th>District_Name_VIZIANAGARAM</th>\n",
              "      <th>District_Name_WARANGAL</th>\n",
              "      <th>District_Name_WARDHA</th>\n",
              "      <th>District_Name_WASHIM</th>\n",
              "      <th>District_Name_WAYANAD</th>\n",
              "      <th>District_Name_WEST DISTRICT</th>\n",
              "      <th>District_Name_WEST GARO HILLS</th>\n",
              "      <th>District_Name_WEST GODAVARI</th>\n",
              "      <th>District_Name_WEST JAINTIA HILLS</th>\n",
              "      <th>District_Name_WEST KAMENG</th>\n",
              "      <th>District_Name_WEST KHASI HILLS</th>\n",
              "      <th>District_Name_WEST SIANG</th>\n",
              "      <th>District_Name_WEST SINGHBHUM</th>\n",
              "      <th>District_Name_WEST TRIPURA</th>\n",
              "      <th>District_Name_WOKHA</th>\n",
              "      <th>District_Name_YADGIR</th>\n",
              "      <th>District_Name_YAMUNANAGAR</th>\n",
              "      <th>District_Name_YANAM</th>\n",
              "      <th>District_Name_YAVATMAL</th>\n",
              "      <th>District_Name_ZUNHEBOTO</th>\n",
              "    </tr>\n",
              "  </thead>\n",
              "  <tbody>\n",
              "    <tr>\n",
              "      <th>73966</th>\n",
              "      <td>-1.722658</td>\n",
              "      <td>-0.119262</td>\n",
              "      <td>0</td>\n",
              "      <td>1</td>\n",
              "      <td>0</td>\n",
              "      <td>0</td>\n",
              "      <td>0</td>\n",
              "      <td>0</td>\n",
              "      <td>0</td>\n",
              "      <td>0</td>\n",
              "      <td>0</td>\n",
              "      <td>0</td>\n",
              "      <td>0</td>\n",
              "      <td>0</td>\n",
              "      <td>0</td>\n",
              "      <td>0</td>\n",
              "      <td>0</td>\n",
              "      <td>0</td>\n",
              "      <td>0</td>\n",
              "      <td>0</td>\n",
              "      <td>1</td>\n",
              "      <td>0</td>\n",
              "      <td>0</td>\n",
              "      <td>0</td>\n",
              "      <td>0</td>\n",
              "      <td>0</td>\n",
              "      <td>0</td>\n",
              "      <td>0</td>\n",
              "      <td>0</td>\n",
              "      <td>0</td>\n",
              "      <td>0</td>\n",
              "      <td>0</td>\n",
              "      <td>0</td>\n",
              "      <td>0</td>\n",
              "      <td>0</td>\n",
              "      <td>0</td>\n",
              "      <td>0</td>\n",
              "      <td>0</td>\n",
              "      <td>0</td>\n",
              "      <td>0</td>\n",
              "      <td>...</td>\n",
              "      <td>0</td>\n",
              "      <td>0</td>\n",
              "      <td>0</td>\n",
              "      <td>0</td>\n",
              "      <td>0</td>\n",
              "      <td>0</td>\n",
              "      <td>0</td>\n",
              "      <td>0</td>\n",
              "      <td>0</td>\n",
              "      <td>0</td>\n",
              "      <td>0</td>\n",
              "      <td>0</td>\n",
              "      <td>0</td>\n",
              "      <td>0</td>\n",
              "      <td>0</td>\n",
              "      <td>0</td>\n",
              "      <td>0</td>\n",
              "      <td>0</td>\n",
              "      <td>0</td>\n",
              "      <td>0</td>\n",
              "      <td>0</td>\n",
              "      <td>0</td>\n",
              "      <td>0</td>\n",
              "      <td>0</td>\n",
              "      <td>0</td>\n",
              "      <td>0</td>\n",
              "      <td>0</td>\n",
              "      <td>0</td>\n",
              "      <td>0</td>\n",
              "      <td>0</td>\n",
              "      <td>0</td>\n",
              "      <td>0</td>\n",
              "      <td>0</td>\n",
              "      <td>0</td>\n",
              "      <td>0</td>\n",
              "      <td>0</td>\n",
              "      <td>0</td>\n",
              "      <td>0</td>\n",
              "      <td>0</td>\n",
              "      <td>0</td>\n",
              "    </tr>\n",
              "    <tr>\n",
              "      <th>191554</th>\n",
              "      <td>-0.129805</td>\n",
              "      <td>0.287936</td>\n",
              "      <td>0</td>\n",
              "      <td>1</td>\n",
              "      <td>0</td>\n",
              "      <td>0</td>\n",
              "      <td>0</td>\n",
              "      <td>0</td>\n",
              "      <td>0</td>\n",
              "      <td>0</td>\n",
              "      <td>0</td>\n",
              "      <td>0</td>\n",
              "      <td>0</td>\n",
              "      <td>0</td>\n",
              "      <td>0</td>\n",
              "      <td>0</td>\n",
              "      <td>0</td>\n",
              "      <td>0</td>\n",
              "      <td>0</td>\n",
              "      <td>0</td>\n",
              "      <td>0</td>\n",
              "      <td>0</td>\n",
              "      <td>0</td>\n",
              "      <td>0</td>\n",
              "      <td>0</td>\n",
              "      <td>0</td>\n",
              "      <td>0</td>\n",
              "      <td>0</td>\n",
              "      <td>0</td>\n",
              "      <td>0</td>\n",
              "      <td>0</td>\n",
              "      <td>0</td>\n",
              "      <td>0</td>\n",
              "      <td>0</td>\n",
              "      <td>0</td>\n",
              "      <td>0</td>\n",
              "      <td>1</td>\n",
              "      <td>0</td>\n",
              "      <td>0</td>\n",
              "      <td>0</td>\n",
              "      <td>...</td>\n",
              "      <td>0</td>\n",
              "      <td>0</td>\n",
              "      <td>0</td>\n",
              "      <td>0</td>\n",
              "      <td>0</td>\n",
              "      <td>0</td>\n",
              "      <td>0</td>\n",
              "      <td>0</td>\n",
              "      <td>0</td>\n",
              "      <td>0</td>\n",
              "      <td>0</td>\n",
              "      <td>0</td>\n",
              "      <td>0</td>\n",
              "      <td>0</td>\n",
              "      <td>0</td>\n",
              "      <td>0</td>\n",
              "      <td>0</td>\n",
              "      <td>0</td>\n",
              "      <td>0</td>\n",
              "      <td>0</td>\n",
              "      <td>0</td>\n",
              "      <td>0</td>\n",
              "      <td>0</td>\n",
              "      <td>0</td>\n",
              "      <td>0</td>\n",
              "      <td>0</td>\n",
              "      <td>0</td>\n",
              "      <td>0</td>\n",
              "      <td>0</td>\n",
              "      <td>0</td>\n",
              "      <td>0</td>\n",
              "      <td>0</td>\n",
              "      <td>0</td>\n",
              "      <td>0</td>\n",
              "      <td>0</td>\n",
              "      <td>0</td>\n",
              "      <td>0</td>\n",
              "      <td>0</td>\n",
              "      <td>0</td>\n",
              "      <td>0</td>\n",
              "    </tr>\n",
              "    <tr>\n",
              "      <th>89661</th>\n",
              "      <td>1.463048</td>\n",
              "      <td>0.011323</td>\n",
              "      <td>0</td>\n",
              "      <td>1</td>\n",
              "      <td>0</td>\n",
              "      <td>0</td>\n",
              "      <td>0</td>\n",
              "      <td>0</td>\n",
              "      <td>0</td>\n",
              "      <td>0</td>\n",
              "      <td>0</td>\n",
              "      <td>0</td>\n",
              "      <td>0</td>\n",
              "      <td>0</td>\n",
              "      <td>0</td>\n",
              "      <td>0</td>\n",
              "      <td>0</td>\n",
              "      <td>0</td>\n",
              "      <td>0</td>\n",
              "      <td>0</td>\n",
              "      <td>0</td>\n",
              "      <td>0</td>\n",
              "      <td>1</td>\n",
              "      <td>0</td>\n",
              "      <td>0</td>\n",
              "      <td>0</td>\n",
              "      <td>0</td>\n",
              "      <td>0</td>\n",
              "      <td>0</td>\n",
              "      <td>0</td>\n",
              "      <td>0</td>\n",
              "      <td>0</td>\n",
              "      <td>0</td>\n",
              "      <td>0</td>\n",
              "      <td>0</td>\n",
              "      <td>0</td>\n",
              "      <td>0</td>\n",
              "      <td>0</td>\n",
              "      <td>0</td>\n",
              "      <td>0</td>\n",
              "      <td>...</td>\n",
              "      <td>0</td>\n",
              "      <td>0</td>\n",
              "      <td>0</td>\n",
              "      <td>0</td>\n",
              "      <td>0</td>\n",
              "      <td>0</td>\n",
              "      <td>0</td>\n",
              "      <td>0</td>\n",
              "      <td>0</td>\n",
              "      <td>0</td>\n",
              "      <td>0</td>\n",
              "      <td>0</td>\n",
              "      <td>0</td>\n",
              "      <td>0</td>\n",
              "      <td>0</td>\n",
              "      <td>0</td>\n",
              "      <td>0</td>\n",
              "      <td>0</td>\n",
              "      <td>0</td>\n",
              "      <td>0</td>\n",
              "      <td>0</td>\n",
              "      <td>0</td>\n",
              "      <td>0</td>\n",
              "      <td>0</td>\n",
              "      <td>0</td>\n",
              "      <td>0</td>\n",
              "      <td>0</td>\n",
              "      <td>0</td>\n",
              "      <td>0</td>\n",
              "      <td>0</td>\n",
              "      <td>0</td>\n",
              "      <td>0</td>\n",
              "      <td>0</td>\n",
              "      <td>0</td>\n",
              "      <td>0</td>\n",
              "      <td>0</td>\n",
              "      <td>0</td>\n",
              "      <td>0</td>\n",
              "      <td>0</td>\n",
              "      <td>0</td>\n",
              "    </tr>\n",
              "    <tr>\n",
              "      <th>149571</th>\n",
              "      <td>-1.324445</td>\n",
              "      <td>-0.430117</td>\n",
              "      <td>0</td>\n",
              "      <td>0</td>\n",
              "      <td>0</td>\n",
              "      <td>1</td>\n",
              "      <td>0</td>\n",
              "      <td>0</td>\n",
              "      <td>0</td>\n",
              "      <td>0</td>\n",
              "      <td>0</td>\n",
              "      <td>0</td>\n",
              "      <td>0</td>\n",
              "      <td>0</td>\n",
              "      <td>0</td>\n",
              "      <td>0</td>\n",
              "      <td>0</td>\n",
              "      <td>0</td>\n",
              "      <td>0</td>\n",
              "      <td>0</td>\n",
              "      <td>0</td>\n",
              "      <td>0</td>\n",
              "      <td>0</td>\n",
              "      <td>0</td>\n",
              "      <td>0</td>\n",
              "      <td>0</td>\n",
              "      <td>0</td>\n",
              "      <td>0</td>\n",
              "      <td>0</td>\n",
              "      <td>0</td>\n",
              "      <td>1</td>\n",
              "      <td>0</td>\n",
              "      <td>0</td>\n",
              "      <td>0</td>\n",
              "      <td>0</td>\n",
              "      <td>0</td>\n",
              "      <td>0</td>\n",
              "      <td>0</td>\n",
              "      <td>0</td>\n",
              "      <td>0</td>\n",
              "      <td>...</td>\n",
              "      <td>0</td>\n",
              "      <td>0</td>\n",
              "      <td>0</td>\n",
              "      <td>0</td>\n",
              "      <td>0</td>\n",
              "      <td>0</td>\n",
              "      <td>0</td>\n",
              "      <td>0</td>\n",
              "      <td>0</td>\n",
              "      <td>0</td>\n",
              "      <td>0</td>\n",
              "      <td>0</td>\n",
              "      <td>0</td>\n",
              "      <td>0</td>\n",
              "      <td>0</td>\n",
              "      <td>0</td>\n",
              "      <td>0</td>\n",
              "      <td>0</td>\n",
              "      <td>0</td>\n",
              "      <td>0</td>\n",
              "      <td>0</td>\n",
              "      <td>0</td>\n",
              "      <td>0</td>\n",
              "      <td>0</td>\n",
              "      <td>0</td>\n",
              "      <td>0</td>\n",
              "      <td>0</td>\n",
              "      <td>0</td>\n",
              "      <td>0</td>\n",
              "      <td>0</td>\n",
              "      <td>0</td>\n",
              "      <td>0</td>\n",
              "      <td>0</td>\n",
              "      <td>0</td>\n",
              "      <td>0</td>\n",
              "      <td>0</td>\n",
              "      <td>0</td>\n",
              "      <td>0</td>\n",
              "      <td>0</td>\n",
              "      <td>0</td>\n",
              "    </tr>\n",
              "    <tr>\n",
              "      <th>21009</th>\n",
              "      <td>-0.926231</td>\n",
              "      <td>-0.696493</td>\n",
              "      <td>0</td>\n",
              "      <td>0</td>\n",
              "      <td>0</td>\n",
              "      <td>1</td>\n",
              "      <td>0</td>\n",
              "      <td>0</td>\n",
              "      <td>0</td>\n",
              "      <td>0</td>\n",
              "      <td>0</td>\n",
              "      <td>1</td>\n",
              "      <td>0</td>\n",
              "      <td>0</td>\n",
              "      <td>0</td>\n",
              "      <td>0</td>\n",
              "      <td>0</td>\n",
              "      <td>0</td>\n",
              "      <td>0</td>\n",
              "      <td>0</td>\n",
              "      <td>0</td>\n",
              "      <td>0</td>\n",
              "      <td>0</td>\n",
              "      <td>0</td>\n",
              "      <td>0</td>\n",
              "      <td>0</td>\n",
              "      <td>0</td>\n",
              "      <td>0</td>\n",
              "      <td>0</td>\n",
              "      <td>0</td>\n",
              "      <td>0</td>\n",
              "      <td>0</td>\n",
              "      <td>0</td>\n",
              "      <td>0</td>\n",
              "      <td>0</td>\n",
              "      <td>0</td>\n",
              "      <td>0</td>\n",
              "      <td>0</td>\n",
              "      <td>0</td>\n",
              "      <td>0</td>\n",
              "      <td>...</td>\n",
              "      <td>0</td>\n",
              "      <td>0</td>\n",
              "      <td>0</td>\n",
              "      <td>0</td>\n",
              "      <td>0</td>\n",
              "      <td>0</td>\n",
              "      <td>0</td>\n",
              "      <td>0</td>\n",
              "      <td>0</td>\n",
              "      <td>0</td>\n",
              "      <td>0</td>\n",
              "      <td>0</td>\n",
              "      <td>0</td>\n",
              "      <td>0</td>\n",
              "      <td>0</td>\n",
              "      <td>0</td>\n",
              "      <td>0</td>\n",
              "      <td>0</td>\n",
              "      <td>0</td>\n",
              "      <td>0</td>\n",
              "      <td>0</td>\n",
              "      <td>0</td>\n",
              "      <td>0</td>\n",
              "      <td>0</td>\n",
              "      <td>0</td>\n",
              "      <td>0</td>\n",
              "      <td>0</td>\n",
              "      <td>0</td>\n",
              "      <td>0</td>\n",
              "      <td>0</td>\n",
              "      <td>0</td>\n",
              "      <td>0</td>\n",
              "      <td>0</td>\n",
              "      <td>0</td>\n",
              "      <td>0</td>\n",
              "      <td>0</td>\n",
              "      <td>0</td>\n",
              "      <td>0</td>\n",
              "      <td>0</td>\n",
              "      <td>0</td>\n",
              "    </tr>\n",
              "    <tr>\n",
              "      <th>...</th>\n",
              "      <td>...</td>\n",
              "      <td>...</td>\n",
              "      <td>...</td>\n",
              "      <td>...</td>\n",
              "      <td>...</td>\n",
              "      <td>...</td>\n",
              "      <td>...</td>\n",
              "      <td>...</td>\n",
              "      <td>...</td>\n",
              "      <td>...</td>\n",
              "      <td>...</td>\n",
              "      <td>...</td>\n",
              "      <td>...</td>\n",
              "      <td>...</td>\n",
              "      <td>...</td>\n",
              "      <td>...</td>\n",
              "      <td>...</td>\n",
              "      <td>...</td>\n",
              "      <td>...</td>\n",
              "      <td>...</td>\n",
              "      <td>...</td>\n",
              "      <td>...</td>\n",
              "      <td>...</td>\n",
              "      <td>...</td>\n",
              "      <td>...</td>\n",
              "      <td>...</td>\n",
              "      <td>...</td>\n",
              "      <td>...</td>\n",
              "      <td>...</td>\n",
              "      <td>...</td>\n",
              "      <td>...</td>\n",
              "      <td>...</td>\n",
              "      <td>...</td>\n",
              "      <td>...</td>\n",
              "      <td>...</td>\n",
              "      <td>...</td>\n",
              "      <td>...</td>\n",
              "      <td>...</td>\n",
              "      <td>...</td>\n",
              "      <td>...</td>\n",
              "      <td>...</td>\n",
              "      <td>...</td>\n",
              "      <td>...</td>\n",
              "      <td>...</td>\n",
              "      <td>...</td>\n",
              "      <td>...</td>\n",
              "      <td>...</td>\n",
              "      <td>...</td>\n",
              "      <td>...</td>\n",
              "      <td>...</td>\n",
              "      <td>...</td>\n",
              "      <td>...</td>\n",
              "      <td>...</td>\n",
              "      <td>...</td>\n",
              "      <td>...</td>\n",
              "      <td>...</td>\n",
              "      <td>...</td>\n",
              "      <td>...</td>\n",
              "      <td>...</td>\n",
              "      <td>...</td>\n",
              "      <td>...</td>\n",
              "      <td>...</td>\n",
              "      <td>...</td>\n",
              "      <td>...</td>\n",
              "      <td>...</td>\n",
              "      <td>...</td>\n",
              "      <td>...</td>\n",
              "      <td>...</td>\n",
              "      <td>...</td>\n",
              "      <td>...</td>\n",
              "      <td>...</td>\n",
              "      <td>...</td>\n",
              "      <td>...</td>\n",
              "      <td>...</td>\n",
              "      <td>...</td>\n",
              "      <td>...</td>\n",
              "      <td>...</td>\n",
              "      <td>...</td>\n",
              "      <td>...</td>\n",
              "      <td>...</td>\n",
              "      <td>...</td>\n",
              "    </tr>\n",
              "    <tr>\n",
              "      <th>76606</th>\n",
              "      <td>-0.528018</td>\n",
              "      <td>1.080757</td>\n",
              "      <td>1</td>\n",
              "      <td>0</td>\n",
              "      <td>0</td>\n",
              "      <td>0</td>\n",
              "      <td>0</td>\n",
              "      <td>0</td>\n",
              "      <td>0</td>\n",
              "      <td>0</td>\n",
              "      <td>0</td>\n",
              "      <td>0</td>\n",
              "      <td>0</td>\n",
              "      <td>0</td>\n",
              "      <td>0</td>\n",
              "      <td>0</td>\n",
              "      <td>0</td>\n",
              "      <td>0</td>\n",
              "      <td>0</td>\n",
              "      <td>0</td>\n",
              "      <td>0</td>\n",
              "      <td>1</td>\n",
              "      <td>0</td>\n",
              "      <td>0</td>\n",
              "      <td>0</td>\n",
              "      <td>0</td>\n",
              "      <td>0</td>\n",
              "      <td>0</td>\n",
              "      <td>0</td>\n",
              "      <td>0</td>\n",
              "      <td>0</td>\n",
              "      <td>0</td>\n",
              "      <td>0</td>\n",
              "      <td>0</td>\n",
              "      <td>0</td>\n",
              "      <td>0</td>\n",
              "      <td>0</td>\n",
              "      <td>0</td>\n",
              "      <td>0</td>\n",
              "      <td>0</td>\n",
              "      <td>...</td>\n",
              "      <td>0</td>\n",
              "      <td>0</td>\n",
              "      <td>0</td>\n",
              "      <td>0</td>\n",
              "      <td>0</td>\n",
              "      <td>0</td>\n",
              "      <td>0</td>\n",
              "      <td>0</td>\n",
              "      <td>0</td>\n",
              "      <td>0</td>\n",
              "      <td>0</td>\n",
              "      <td>0</td>\n",
              "      <td>0</td>\n",
              "      <td>0</td>\n",
              "      <td>0</td>\n",
              "      <td>0</td>\n",
              "      <td>0</td>\n",
              "      <td>0</td>\n",
              "      <td>0</td>\n",
              "      <td>0</td>\n",
              "      <td>0</td>\n",
              "      <td>0</td>\n",
              "      <td>0</td>\n",
              "      <td>0</td>\n",
              "      <td>0</td>\n",
              "      <td>0</td>\n",
              "      <td>0</td>\n",
              "      <td>0</td>\n",
              "      <td>0</td>\n",
              "      <td>0</td>\n",
              "      <td>0</td>\n",
              "      <td>0</td>\n",
              "      <td>0</td>\n",
              "      <td>0</td>\n",
              "      <td>0</td>\n",
              "      <td>0</td>\n",
              "      <td>0</td>\n",
              "      <td>0</td>\n",
              "      <td>0</td>\n",
              "      <td>0</td>\n",
              "    </tr>\n",
              "    <tr>\n",
              "      <th>224424</th>\n",
              "      <td>-1.324445</td>\n",
              "      <td>1.455630</td>\n",
              "      <td>0</td>\n",
              "      <td>1</td>\n",
              "      <td>0</td>\n",
              "      <td>0</td>\n",
              "      <td>0</td>\n",
              "      <td>0</td>\n",
              "      <td>0</td>\n",
              "      <td>0</td>\n",
              "      <td>0</td>\n",
              "      <td>0</td>\n",
              "      <td>0</td>\n",
              "      <td>0</td>\n",
              "      <td>0</td>\n",
              "      <td>0</td>\n",
              "      <td>0</td>\n",
              "      <td>0</td>\n",
              "      <td>0</td>\n",
              "      <td>0</td>\n",
              "      <td>0</td>\n",
              "      <td>0</td>\n",
              "      <td>0</td>\n",
              "      <td>0</td>\n",
              "      <td>0</td>\n",
              "      <td>0</td>\n",
              "      <td>0</td>\n",
              "      <td>0</td>\n",
              "      <td>0</td>\n",
              "      <td>0</td>\n",
              "      <td>0</td>\n",
              "      <td>0</td>\n",
              "      <td>0</td>\n",
              "      <td>0</td>\n",
              "      <td>0</td>\n",
              "      <td>0</td>\n",
              "      <td>0</td>\n",
              "      <td>0</td>\n",
              "      <td>1</td>\n",
              "      <td>0</td>\n",
              "      <td>...</td>\n",
              "      <td>0</td>\n",
              "      <td>0</td>\n",
              "      <td>0</td>\n",
              "      <td>0</td>\n",
              "      <td>0</td>\n",
              "      <td>0</td>\n",
              "      <td>0</td>\n",
              "      <td>0</td>\n",
              "      <td>0</td>\n",
              "      <td>0</td>\n",
              "      <td>0</td>\n",
              "      <td>0</td>\n",
              "      <td>0</td>\n",
              "      <td>0</td>\n",
              "      <td>0</td>\n",
              "      <td>0</td>\n",
              "      <td>0</td>\n",
              "      <td>0</td>\n",
              "      <td>0</td>\n",
              "      <td>0</td>\n",
              "      <td>0</td>\n",
              "      <td>0</td>\n",
              "      <td>0</td>\n",
              "      <td>0</td>\n",
              "      <td>0</td>\n",
              "      <td>0</td>\n",
              "      <td>0</td>\n",
              "      <td>0</td>\n",
              "      <td>0</td>\n",
              "      <td>0</td>\n",
              "      <td>0</td>\n",
              "      <td>0</td>\n",
              "      <td>0</td>\n",
              "      <td>0</td>\n",
              "      <td>0</td>\n",
              "      <td>0</td>\n",
              "      <td>0</td>\n",
              "      <td>0</td>\n",
              "      <td>0</td>\n",
              "      <td>0</td>\n",
              "    </tr>\n",
              "    <tr>\n",
              "      <th>80222</th>\n",
              "      <td>-1.722658</td>\n",
              "      <td>-0.701262</td>\n",
              "      <td>0</td>\n",
              "      <td>0</td>\n",
              "      <td>0</td>\n",
              "      <td>1</td>\n",
              "      <td>0</td>\n",
              "      <td>0</td>\n",
              "      <td>0</td>\n",
              "      <td>0</td>\n",
              "      <td>0</td>\n",
              "      <td>0</td>\n",
              "      <td>0</td>\n",
              "      <td>0</td>\n",
              "      <td>0</td>\n",
              "      <td>0</td>\n",
              "      <td>0</td>\n",
              "      <td>0</td>\n",
              "      <td>0</td>\n",
              "      <td>0</td>\n",
              "      <td>0</td>\n",
              "      <td>0</td>\n",
              "      <td>1</td>\n",
              "      <td>0</td>\n",
              "      <td>0</td>\n",
              "      <td>0</td>\n",
              "      <td>0</td>\n",
              "      <td>0</td>\n",
              "      <td>0</td>\n",
              "      <td>0</td>\n",
              "      <td>0</td>\n",
              "      <td>0</td>\n",
              "      <td>0</td>\n",
              "      <td>0</td>\n",
              "      <td>0</td>\n",
              "      <td>0</td>\n",
              "      <td>0</td>\n",
              "      <td>0</td>\n",
              "      <td>0</td>\n",
              "      <td>0</td>\n",
              "      <td>...</td>\n",
              "      <td>0</td>\n",
              "      <td>0</td>\n",
              "      <td>0</td>\n",
              "      <td>0</td>\n",
              "      <td>0</td>\n",
              "      <td>0</td>\n",
              "      <td>0</td>\n",
              "      <td>0</td>\n",
              "      <td>0</td>\n",
              "      <td>0</td>\n",
              "      <td>0</td>\n",
              "      <td>0</td>\n",
              "      <td>0</td>\n",
              "      <td>0</td>\n",
              "      <td>0</td>\n",
              "      <td>0</td>\n",
              "      <td>0</td>\n",
              "      <td>0</td>\n",
              "      <td>0</td>\n",
              "      <td>0</td>\n",
              "      <td>0</td>\n",
              "      <td>0</td>\n",
              "      <td>0</td>\n",
              "      <td>0</td>\n",
              "      <td>0</td>\n",
              "      <td>0</td>\n",
              "      <td>0</td>\n",
              "      <td>0</td>\n",
              "      <td>0</td>\n",
              "      <td>0</td>\n",
              "      <td>0</td>\n",
              "      <td>0</td>\n",
              "      <td>0</td>\n",
              "      <td>0</td>\n",
              "      <td>0</td>\n",
              "      <td>0</td>\n",
              "      <td>0</td>\n",
              "      <td>0</td>\n",
              "      <td>0</td>\n",
              "      <td>0</td>\n",
              "    </tr>\n",
              "    <tr>\n",
              "      <th>13372</th>\n",
              "      <td>-1.523551</td>\n",
              "      <td>0.096718</td>\n",
              "      <td>0</td>\n",
              "      <td>0</td>\n",
              "      <td>0</td>\n",
              "      <td>0</td>\n",
              "      <td>0</td>\n",
              "      <td>1</td>\n",
              "      <td>0</td>\n",
              "      <td>0</td>\n",
              "      <td>0</td>\n",
              "      <td>1</td>\n",
              "      <td>0</td>\n",
              "      <td>0</td>\n",
              "      <td>0</td>\n",
              "      <td>0</td>\n",
              "      <td>0</td>\n",
              "      <td>0</td>\n",
              "      <td>0</td>\n",
              "      <td>0</td>\n",
              "      <td>0</td>\n",
              "      <td>0</td>\n",
              "      <td>0</td>\n",
              "      <td>0</td>\n",
              "      <td>0</td>\n",
              "      <td>0</td>\n",
              "      <td>0</td>\n",
              "      <td>0</td>\n",
              "      <td>0</td>\n",
              "      <td>0</td>\n",
              "      <td>0</td>\n",
              "      <td>0</td>\n",
              "      <td>0</td>\n",
              "      <td>0</td>\n",
              "      <td>0</td>\n",
              "      <td>0</td>\n",
              "      <td>0</td>\n",
              "      <td>0</td>\n",
              "      <td>0</td>\n",
              "      <td>0</td>\n",
              "      <td>...</td>\n",
              "      <td>0</td>\n",
              "      <td>0</td>\n",
              "      <td>0</td>\n",
              "      <td>0</td>\n",
              "      <td>0</td>\n",
              "      <td>0</td>\n",
              "      <td>0</td>\n",
              "      <td>0</td>\n",
              "      <td>0</td>\n",
              "      <td>0</td>\n",
              "      <td>0</td>\n",
              "      <td>0</td>\n",
              "      <td>0</td>\n",
              "      <td>0</td>\n",
              "      <td>0</td>\n",
              "      <td>0</td>\n",
              "      <td>0</td>\n",
              "      <td>0</td>\n",
              "      <td>0</td>\n",
              "      <td>0</td>\n",
              "      <td>0</td>\n",
              "      <td>0</td>\n",
              "      <td>0</td>\n",
              "      <td>0</td>\n",
              "      <td>0</td>\n",
              "      <td>0</td>\n",
              "      <td>0</td>\n",
              "      <td>0</td>\n",
              "      <td>0</td>\n",
              "      <td>0</td>\n",
              "      <td>0</td>\n",
              "      <td>0</td>\n",
              "      <td>0</td>\n",
              "      <td>0</td>\n",
              "      <td>0</td>\n",
              "      <td>0</td>\n",
              "      <td>0</td>\n",
              "      <td>0</td>\n",
              "      <td>0</td>\n",
              "      <td>0</td>\n",
              "    </tr>\n",
              "    <tr>\n",
              "      <th>106567</th>\n",
              "      <td>-0.328911</td>\n",
              "      <td>-0.389666</td>\n",
              "      <td>0</td>\n",
              "      <td>1</td>\n",
              "      <td>0</td>\n",
              "      <td>0</td>\n",
              "      <td>0</td>\n",
              "      <td>0</td>\n",
              "      <td>0</td>\n",
              "      <td>0</td>\n",
              "      <td>0</td>\n",
              "      <td>0</td>\n",
              "      <td>0</td>\n",
              "      <td>0</td>\n",
              "      <td>0</td>\n",
              "      <td>0</td>\n",
              "      <td>0</td>\n",
              "      <td>0</td>\n",
              "      <td>0</td>\n",
              "      <td>0</td>\n",
              "      <td>0</td>\n",
              "      <td>0</td>\n",
              "      <td>0</td>\n",
              "      <td>0</td>\n",
              "      <td>1</td>\n",
              "      <td>0</td>\n",
              "      <td>0</td>\n",
              "      <td>0</td>\n",
              "      <td>0</td>\n",
              "      <td>0</td>\n",
              "      <td>0</td>\n",
              "      <td>0</td>\n",
              "      <td>0</td>\n",
              "      <td>0</td>\n",
              "      <td>0</td>\n",
              "      <td>0</td>\n",
              "      <td>0</td>\n",
              "      <td>0</td>\n",
              "      <td>0</td>\n",
              "      <td>0</td>\n",
              "      <td>...</td>\n",
              "      <td>0</td>\n",
              "      <td>0</td>\n",
              "      <td>0</td>\n",
              "      <td>0</td>\n",
              "      <td>0</td>\n",
              "      <td>0</td>\n",
              "      <td>0</td>\n",
              "      <td>0</td>\n",
              "      <td>0</td>\n",
              "      <td>0</td>\n",
              "      <td>0</td>\n",
              "      <td>0</td>\n",
              "      <td>0</td>\n",
              "      <td>0</td>\n",
              "      <td>0</td>\n",
              "      <td>0</td>\n",
              "      <td>0</td>\n",
              "      <td>0</td>\n",
              "      <td>0</td>\n",
              "      <td>0</td>\n",
              "      <td>0</td>\n",
              "      <td>0</td>\n",
              "      <td>0</td>\n",
              "      <td>0</td>\n",
              "      <td>0</td>\n",
              "      <td>0</td>\n",
              "      <td>0</td>\n",
              "      <td>0</td>\n",
              "      <td>0</td>\n",
              "      <td>0</td>\n",
              "      <td>0</td>\n",
              "      <td>0</td>\n",
              "      <td>0</td>\n",
              "      <td>0</td>\n",
              "      <td>0</td>\n",
              "      <td>0</td>\n",
              "      <td>0</td>\n",
              "      <td>0</td>\n",
              "      <td>0</td>\n",
              "      <td>0</td>\n",
              "    </tr>\n",
              "  </tbody>\n",
              "</table>\n",
              "<p>10502 rows × 666 columns</p>\n",
              "</div>"
            ],
            "text/plain": [
              "        Crop_Year      Area  ...  District_Name_YAVATMAL  District_Name_ZUNHEBOTO\n",
              "73966   -1.722658 -0.119262  ...                       0                        0\n",
              "191554  -0.129805  0.287936  ...                       0                        0\n",
              "89661    1.463048  0.011323  ...                       0                        0\n",
              "149571  -1.324445 -0.430117  ...                       0                        0\n",
              "21009   -0.926231 -0.696493  ...                       0                        0\n",
              "...           ...       ...  ...                     ...                      ...\n",
              "76606   -0.528018  1.080757  ...                       0                        0\n",
              "224424  -1.324445  1.455630  ...                       0                        0\n",
              "80222   -1.722658 -0.701262  ...                       0                        0\n",
              "13372   -1.523551  0.096718  ...                       0                        0\n",
              "106567  -0.328911 -0.389666  ...                       0                        0\n",
              "\n",
              "[10502 rows x 666 columns]"
            ]
          },
          "metadata": {
            "tags": []
          },
          "execution_count": 100
        }
      ]
    },
    {
      "cell_type": "code",
      "metadata": {
        "colab": {
          "base_uri": "https://localhost:8080/"
        },
        "id": "36LTYSM8dwEg",
        "outputId": "ad1b61bc-7cbe-4df4-f9a6-0f1edb3b63f0"
      },
      "source": [
        "# the first model is the linear one\n",
        "from sklearn import linear_model\n",
        "from sklearn.model_selection import cross_val_score\n",
        "\n",
        "regr = linear_model.LinearRegression()\n",
        "cv = cross_val_score(regr, X_train, y_train, cv = 5)\n",
        "print(cv)\n",
        "print(cv.mean())\n",
        "# a negative score means that the model is doing worse than the null hypothesis. Really really bad"
      ],
      "execution_count": 99,
      "outputs": [
        {
          "output_type": "stream",
          "text": [
            "[-4.13268535e+20 -2.90468640e+16 -5.73019481e+13 -2.39008430e+21\n",
            " -6.11405480e+17]\n",
            "-5.607986689693279e+20\n"
          ],
          "name": "stdout"
        }
      ]
    },
    {
      "cell_type": "code",
      "metadata": {
        "colab": {
          "base_uri": "https://localhost:8080/"
        },
        "id": "CGhnF7q0h9HG",
        "outputId": "c1d88ce4-1340-48c4-8ab3-f912c8b3217e"
      },
      "source": [
        "# the second a random forest\n",
        "from sklearn.ensemble import RandomForestRegressor\n",
        "\n",
        "rf = RandomForestRegressor(random_state = 1)\n",
        "cv = cross_val_score(rf, X_train, y_train, cv = 5)\n",
        "print(cv)\n",
        "print(cv.mean())\n",
        "# while this one is almost perfect!!"
      ],
      "execution_count": 103,
      "outputs": [
        {
          "output_type": "stream",
          "text": [
            "[0.95963386 0.95061979 0.96070657 0.96160723 0.96498085]\n",
            "0.9595096598483048\n"
          ],
          "name": "stdout"
        }
      ]
    },
    {
      "cell_type": "code",
      "metadata": {
        "id": "E1NhFFtojeFL"
      },
      "source": [
        "# and here finally we get an estimate on teh test dataset.\n",
        "model = rf.fit(X_train, y_train)\n",
        "y_predicted = model.predict(X_test)\n",
        "print('the correlation between the predicted and the test is: ', np.corrcoef(y_predicted, y_test)[0,1])\n",
        "# really really high correlation. very good!"
      ],
      "execution_count": null,
      "outputs": []
    },
    {
      "cell_type": "code",
      "metadata": {
        "colab": {
          "base_uri": "https://localhost:8080/",
          "height": 611
        },
        "id": "EidxKI5zlrtA",
        "outputId": "50a23344-247e-4c34-da68-763fb7d5b863"
      },
      "source": [
        "# and here finally I am plotting the feature importance. Clearly areas explains the largest share\n",
        "feat_importances = pd.Series(model.feature_importances_, index = X_train.columns)\n",
        "feat_importances.nlargest(20).plot(kind='barh')"
      ],
      "execution_count": 109,
      "outputs": [
        {
          "output_type": "execute_result",
          "data": {
            "text/plain": [
              "<matplotlib.axes._subplots.AxesSubplot at 0x7f5d58424390>"
            ]
          },
          "metadata": {
            "tags": []
          },
          "execution_count": 109
        },
        {
          "output_type": "display_data",
          "data": {
            "image/png": "[encoded data removed]",
            "text/plain": [
              "<Figure size 720x720 with 1 Axes>"
            ]
          },
          "metadata": {
            "tags": []
          }
        }
      ]
    },
    {
      "cell_type": "markdown",
      "metadata": {
        "id": "VYZP7Z7yWGkm"
      },
      "source": [
        "# **WHEAT**"
      ]
    },
    {
      "cell_type": "code",
      "metadata": {
        "colab": {
          "base_uri": "https://localhost:8080/"
        },
        "id": "ig3C-Jztag5h",
        "outputId": "e0246887-94e9-4c33-b6a6-8816c2ea85ec"
      },
      "source": [
        "data_wheat.shape"
      ],
      "execution_count": 73,
      "outputs": [
        {
          "output_type": "execute_result",
          "data": {
            "text/plain": [
              "(7878, 9)"
            ]
          },
          "metadata": {
            "tags": []
          },
          "execution_count": 73
        }
      ]
    },
    {
      "cell_type": "code",
      "metadata": {
        "colab": {
          "base_uri": "https://localhost:8080/",
          "height": 511
        },
        "id": "qeLKdiLHWE4O",
        "outputId": "31b30359-1777-4188-dd49-295bdf179475"
      },
      "source": [
        "# here we are selecting only the data_wheat, as they are those who probably the second produced the most (actually that are most recurrent)\n",
        "data_wheat = data[data['Crop'] == 'Wheat']\n",
        "data_wheat.dropna(inplace = True)\n",
        "data_wheat.head()\n",
        "\n",
        "# here we see the wheat production in these years\n",
        "data_wheat.groupby([\"Crop_Year\"])['Production', 'Area'].sum().plot(legend=True, xlabel = 'Year', ylabel = 'Production & Area',title = 'WHEAT', figsize =(7,5))\n",
        "# the same thoughts already expressed for wheat now apply to rice\n",
        "# However we see that the production is increased more than the area. There must have been some sort of technological improvement"
      ],
      "execution_count": 72,
      "outputs": [
        {
          "output_type": "stream",
          "text": [
            "/usr/local/lib/python3.7/dist-packages/ipykernel_launcher.py:3: SettingWithCopyWarning: \n",
            "A value is trying to be set on a copy of a slice from a DataFrame\n",
            "\n",
            "See the caveats in the documentation: https://pandas.pydata.org/pandas-docs/stable/user_guide/indexing.html#returning-a-view-versus-a-copy\n",
            "  This is separate from the ipykernel package so we can avoid doing imports until\n",
            "/usr/local/lib/python3.7/dist-packages/ipykernel_launcher.py:7: FutureWarning: Indexing with multiple keys (implicitly converted to a tuple of keys) will be deprecated, use a list instead.\n",
            "  import sys\n"
          ],
          "name": "stderr"
        },
        {
          "output_type": "execute_result",
          "data": {
            "text/plain": [
              "<matplotlib.axes._subplots.AxesSubplot at 0x7f5d53742190>"
            ]
          },
          "metadata": {
            "tags": []
          },
          "execution_count": 72
        },
        {
          "output_type": "display_data",
          "data": {
            "image/png": "[encoded data removed]",
            "text/plain": [
              "<Figure size 504x360 with 1 Axes>"
            ]
          },
          "metadata": {
            "tags": []
          }
        }
      ]
    },
    {
      "cell_type": "markdown",
      "metadata": {
        "id": "5BxWbT6BmTk2"
      },
      "source": [
        "# applying multiple linear regression & Random forest for Wheat"
      ]
    },
    {
      "cell_type": "code",
      "metadata": {
        "id": "sDBuixokbigk"
      },
      "source": [
        "# here we select all those years before 2015 (where we clearly have missing data)\n",
        "data_wheat_dropped = data_wheat[data_wheat['Crop_Year'] <= 2014]\n",
        "data_wheat_dropped.Crop_Year.unique()"
      ],
      "execution_count": null,
      "outputs": []
    },
    {
      "cell_type": "code",
      "metadata": {
        "id": "VOLs3Gftme6W"
      },
      "source": [
        "# here we do some work to prepare the variables. we scale them and we prepare the dummies\n",
        "from sklearn.preprocessing import StandardScaler\n",
        "\n",
        "dummies = pd.get_dummies(data_wheat_dropped[['Season','State_Name','District_Name', 'Crop_Year', 'Area']])\n",
        "scale = StandardScaler()\n",
        "dummies_scaled = dummies.copy()\n",
        "dummies_scaled[['Crop_Year','Area']]= scale.fit_transform(dummies[['Crop_Year','Area']])\n",
        "y = data_wheat_dropped['Production']"
      ],
      "execution_count": 112,
      "outputs": []
    },
    {
      "cell_type": "code",
      "metadata": {
        "id": "7we00o2Amk-n"
      },
      "source": [
        "# and splitting the dataset in train and test dataset\n",
        "from sklearn.model_selection import train_test_split\n",
        "X_train, X_test, y_train, y_test = train_test_split(dummies_scaled, y, test_size=0.30, random_state=42)"
      ],
      "execution_count": 114,
      "outputs": []
    },
    {
      "cell_type": "code",
      "metadata": {
        "colab": {
          "base_uri": "https://localhost:8080/"
        },
        "id": "xURUaHAvmoFr",
        "outputId": "f8429e53-d25d-4447-b2ab-f82ffd75fb79"
      },
      "source": [
        "# the model is random forest regressor\n",
        "from sklearn.ensemble import RandomForestRegressor\n",
        "\n",
        "rf = RandomForestRegressor(random_state = 1)\n",
        "cv = cross_val_score(rf, X_train, y_train, cv = 5)\n",
        "print(cv)\n",
        "print(cv.mean())\n",
        "# also this one is almost perfect!!"
      ],
      "execution_count": 115,
      "outputs": [
        {
          "output_type": "stream",
          "text": [
            "[0.97539462 0.97945912 0.98120125 0.97538482 0.97776798]\n",
            "0.9778415557280301\n"
          ],
          "name": "stdout"
        }
      ]
    },
    {
      "cell_type": "code",
      "metadata": {
        "colab": {
          "base_uri": "https://localhost:8080/"
        },
        "id": "29jWGmJrmqjU",
        "outputId": "1f0bca1c-6246-428e-ab9d-30c398179f97"
      },
      "source": [
        "# and here finally we get an estimate on the test dataset.\n",
        "model = rf.fit(X_train, y_train)\n",
        "y_predicted = model.predict(X_test)\n",
        "print('the correlation between the predicted and the test is: ', np.corrcoef(y_predicted, y_test)[0,1])\n",
        "# really really high correlation. very good!"
      ],
      "execution_count": 116,
      "outputs": [
        {
          "output_type": "stream",
          "text": [
            "the correlation between the predicted and the test is:  0.9893463952145967\n"
          ],
          "name": "stdout"
        }
      ]
    },
    {
      "cell_type": "code",
      "metadata": {
        "colab": {
          "base_uri": "https://localhost:8080/",
          "height": 611
        },
        "id": "uhJ3xtMhmsrL",
        "outputId": "d578967a-7b29-476c-ff63-5c805955391f"
      },
      "source": [
        "# and here finally I am plotting the feature importance. Clearly areas explains the largest share (even larger than in rice)\n",
        "feat_importances = pd.Series(model.feature_importances_, index = X_train.columns)\n",
        "feat_importances.nlargest(20).plot(kind='barh')"
      ],
      "execution_count": 117,
      "outputs": [
        {
          "output_type": "execute_result",
          "data": {
            "text/plain": [
              "<matplotlib.axes._subplots.AxesSubplot at 0x7f5d53ada6d0>"
            ]
          },
          "metadata": {
            "tags": []
          },
          "execution_count": 117
        },
        {
          "output_type": "display_data",
          "data": {
            "image/png": "[encoded data removed]",
            "text/plain": [
              "<Figure size 720x720 with 1 Axes>"
            ]
          },
          "metadata": {
            "tags": []
          }
        }
      ]
    }
  ]
}